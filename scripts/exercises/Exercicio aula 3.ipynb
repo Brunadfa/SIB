{
 "cells": [
  {
   "cell_type": "markdown",
   "source": [
    "__Test the PCA class in a jupyter notebook using the iris.csv dataset (classificação).__"
   ],
   "metadata": {
    "collapsed": false
   },
   "id": "6bf3048efb613186"
  },
  {
   "cell_type": "code",
   "execution_count": 2,
   "outputs": [],
   "source": [
    "import numpy as np\n",
    "import pandas as pd\n",
    "from si.Data.dataset import Dataset\n",
    "from si.decomposition.pca import PCA\n",
    "from si.IO.CSV import read_csv"
   ],
   "metadata": {
    "collapsed": false,
    "ExecuteTime": {
     "end_time": "2023-10-10T15:55:54.703971700Z",
     "start_time": "2023-10-10T15:55:54.012234100Z"
    }
   },
   "id": "2e523b7faef5e4d8"
  },
  {
   "cell_type": "code",
   "execution_count": 10,
   "outputs": [],
   "source": [
    "df_iris = read_csv(r'C:\\Users\\bruna\\PycharmProjects\\SIB\\datasets\\iris\\iris.csv', sep=\",\", label=True)\n"
   ],
   "metadata": {
    "collapsed": false,
    "ExecuteTime": {
     "end_time": "2023-10-10T16:04:57.926290700Z",
     "start_time": "2023-10-10T16:04:57.919925400Z"
    }
   },
   "id": "38671e4558c06792"
  },
  {
   "cell_type": "code",
   "execution_count": 9,
   "outputs": [
    {
     "data": {
      "text/plain": "array([[ 0.36158968, -0.08226889,  0.85657211,  0.35884393],\n       [-0.65653988, -0.72971237,  0.1757674 ,  0.07470647]])"
     },
     "execution_count": 9,
     "metadata": {},
     "output_type": "execute_result"
    }
   ],
   "source": [
    "selector = PCA(n_components=2)\n",
    "selector.fit_transform(df_iris)\n",
    "selector.components"
   ],
   "metadata": {
    "collapsed": false,
    "ExecuteTime": {
     "end_time": "2023-10-10T15:57:27.657337Z",
     "start_time": "2023-10-10T15:57:27.652362900Z"
    }
   },
   "id": "5fb5d926a8a28ab3"
  },
  {
   "cell_type": "code",
   "execution_count": 6,
   "outputs": [
    {
     "data": {
      "text/plain": "array([4.22484077, 0.24224357])"
     },
     "execution_count": 6,
     "metadata": {},
     "output_type": "execute_result"
    }
   ],
   "source": [
    "selector.explained_variance"
   ],
   "metadata": {
    "collapsed": false,
    "ExecuteTime": {
     "end_time": "2023-10-10T15:56:43.779907800Z",
     "start_time": "2023-10-10T15:56:43.775378900Z"
    }
   },
   "id": "8935c6a0a9704c8d"
  },
  {
   "cell_type": "code",
   "execution_count": 7,
   "outputs": [
    {
     "data": {
      "text/plain": "array([5.84333333, 3.054     , 3.75866667, 1.19866667])"
     },
     "execution_count": 7,
     "metadata": {},
     "output_type": "execute_result"
    }
   ],
   "source": [
    "selector.mean"
   ],
   "metadata": {
    "collapsed": false,
    "ExecuteTime": {
     "end_time": "2023-10-10T15:56:52.861170100Z",
     "start_time": "2023-10-10T15:56:52.857113900Z"
    }
   },
   "id": "58a6d4d5ebcae69d"
  }
 ],
 "metadata": {
  "kernelspec": {
   "display_name": "Python 3",
   "language": "python",
   "name": "python3"
  },
  "language_info": {
   "codemirror_mode": {
    "name": "ipython",
    "version": 2
   },
   "file_extension": ".py",
   "mimetype": "text/x-python",
   "name": "python",
   "nbconvert_exporter": "python",
   "pygments_lexer": "ipython2",
   "version": "2.7.6"
  }
 },
 "nbformat": 4,
 "nbformat_minor": 5
}
