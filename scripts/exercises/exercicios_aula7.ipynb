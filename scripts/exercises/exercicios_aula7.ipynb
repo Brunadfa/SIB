{
 "cells": [
  {
   "cell_type": "markdown",
   "source": [],
   "metadata": {
    "collapsed": false
   },
   "id": "61c09b9a69837a6f"
  },
  {
   "cell_type": "markdown",
   "source": [
    "__Test the random forest class using the following protocol:__ \n",
    "1. Use the iris.csv dataset \n",
    "2. Split the data into train and test sets \n",
    "3. Create the RandomForestClassifier model \n",
    "4. Train the model. What is the score of the model on the test set?"
   ],
   "metadata": {
    "collapsed": false
   },
   "id": "d77f6c87971de86c"
  },
  {
   "cell_type": "code",
   "execution_count": 1,
   "outputs": [],
   "source": [
    "import numpy as np\n",
    "import pandas as pd\n",
    "from si.Data.dataset import Dataset\n",
    "from si.IO.CSV import read_csv\n",
    "from si.model_selection.split import train_test_split\n",
    "from si.models.random_forest_classifier import RandomForestClassifier  \n",
    "\n",
    "breast_bin = read_csv(r'C:\\Users\\bruna\\PycharmProjects\\SIB\\datasets\\breast_bin\\breast-bin.csv', sep=\",\", label=True, features=True)"
   ],
   "metadata": {
    "collapsed": false,
    "ExecuteTime": {
     "end_time": "2023-11-02T21:39:58.987077Z",
     "start_time": "2023-11-02T21:39:54.894740500Z"
    }
   },
   "id": "8e357abc9cf47732"
  },
  {
   "cell_type": "code",
   "execution_count": 2,
   "outputs": [
    {
     "data": {
      "text/plain": "<si.models.random_forest_classifier.RandomForestClassifier at 0x1d7168d0650>"
     },
     "execution_count": 2,
     "metadata": {},
     "output_type": "execute_result"
    }
   ],
   "source": [
    "train, test = train_test_split(breast_bin, test_size=0.33, random_state=42)\n",
    "\n",
    "model = RandomForestClassifier(n_estimators=100, max_features=None, min_sample_split=2, max_depth=10, mode='gini', seed=42)\n",
    "\n",
    "model.fit(train)\n"
   ],
   "metadata": {
    "collapsed": false,
    "ExecuteTime": {
     "end_time": "2023-11-02T21:40:04.614843500Z",
     "start_time": "2023-11-02T21:40:00.989761600Z"
    }
   },
   "id": "8b8d583997b36a32"
  },
  {
   "cell_type": "code",
   "execution_count": 3,
   "outputs": [
    {
     "ename": "ValueError",
     "evalue": "Number of features must match the number of columns in X",
     "output_type": "error",
     "traceback": [
      "\u001B[1;31m---------------------------------------------------------------------------\u001B[0m",
      "\u001B[1;31mValueError\u001B[0m                                Traceback (most recent call last)",
      "Cell \u001B[1;32mIn[3], line 1\u001B[0m\n\u001B[1;32m----> 1\u001B[0m score \u001B[38;5;241m=\u001B[39m model\u001B[38;5;241m.\u001B[39mscore(test)\n\u001B[0;32m      3\u001B[0m \u001B[38;5;28mprint\u001B[39m(\u001B[38;5;124mf\u001B[39m\u001B[38;5;124m\"\u001B[39m\u001B[38;5;124mAccuracy on the test set: \u001B[39m\u001B[38;5;132;01m{\u001B[39;00mscore\u001B[38;5;132;01m:\u001B[39;00m\u001B[38;5;124m.2f\u001B[39m\u001B[38;5;132;01m}\u001B[39;00m\u001B[38;5;124m\"\u001B[39m)\n",
      "File \u001B[1;32m~\\PycharmProjects\\SIB\\src\\si\\models\\random_forest_classifier.py:118\u001B[0m, in \u001B[0;36mRandomForestClassifier.score\u001B[1;34m(self, dataset)\u001B[0m\n\u001B[0;32m    105\u001B[0m \u001B[38;5;28;01mdef\u001B[39;00m \u001B[38;5;21mscore\u001B[39m(\u001B[38;5;28mself\u001B[39m, dataset: Dataset) \u001B[38;5;241m-\u001B[39m\u001B[38;5;241m>\u001B[39m \u001B[38;5;28mfloat\u001B[39m:\n\u001B[0;32m    106\u001B[0m \u001B[38;5;250m    \u001B[39m\u001B[38;5;124;03m\"\"\"\u001B[39;00m\n\u001B[0;32m    107\u001B[0m \u001B[38;5;124;03m            Computes the accuracy of the model's predictions on a dataset.\u001B[39;00m\n\u001B[0;32m    108\u001B[0m \n\u001B[1;32m   (...)\u001B[0m\n\u001B[0;32m    116\u001B[0m \u001B[38;5;124;03m                The accuracy is calculated by comparing the model's predictions with the true labels in the dataset.\u001B[39;00m\n\u001B[0;32m    117\u001B[0m \u001B[38;5;124;03m            \"\"\"\u001B[39;00m\n\u001B[1;32m--> 118\u001B[0m     predictions \u001B[38;5;241m=\u001B[39m \u001B[38;5;28mself\u001B[39m\u001B[38;5;241m.\u001B[39mpredict(dataset)\n\u001B[0;32m    119\u001B[0m     \u001B[38;5;28;01mreturn\u001B[39;00m accuracy(dataset\u001B[38;5;241m.\u001B[39my, predictions)\n",
      "File \u001B[1;32m~\\PycharmProjects\\SIB\\src\\si\\models\\random_forest_classifier.py:99\u001B[0m, in \u001B[0;36mRandomForestClassifier.predict\u001B[1;34m(self, dataset)\u001B[0m\n\u001B[0;32m     97\u001B[0m \u001B[38;5;28;01mfor\u001B[39;00m feature_indices, tree \u001B[38;5;129;01min\u001B[39;00m \u001B[38;5;28mself\u001B[39m\u001B[38;5;241m.\u001B[39mtrees:\n\u001B[0;32m     98\u001B[0m     x_subset \u001B[38;5;241m=\u001B[39m x[feature_indices]\n\u001B[1;32m---> 99\u001B[0m     subset_dataset \u001B[38;5;241m=\u001B[39m Dataset(X\u001B[38;5;241m=\u001B[39m[x_subset], features\u001B[38;5;241m=\u001B[39mdataset\u001B[38;5;241m.\u001B[39mfeatures, label\u001B[38;5;241m=\u001B[39mdataset\u001B[38;5;241m.\u001B[39mlabel)\n\u001B[0;32m    100\u001B[0m     tree_predictions\u001B[38;5;241m.\u001B[39mappend(tree\u001B[38;5;241m.\u001B[39mpredict(subset_dataset))\n\u001B[0;32m    101\u001B[0m most_common_prediction \u001B[38;5;241m=\u001B[39m \u001B[38;5;28mmax\u001B[39m(\u001B[38;5;28mset\u001B[39m(tree_predictions), key\u001B[38;5;241m=\u001B[39mtree_predictions\u001B[38;5;241m.\u001B[39mcount)\n",
      "File \u001B[1;32m~\\PycharmProjects\\SIB\\src\\si\\Data\\dataset.py:28\u001B[0m, in \u001B[0;36mDataset.__init__\u001B[1;34m(self, X, y, features, label)\u001B[0m\n\u001B[0;32m     26\u001B[0m     \u001B[38;5;28;01mraise\u001B[39;00m \u001B[38;5;167;01mValueError\u001B[39;00m(\u001B[38;5;124m\"\u001B[39m\u001B[38;5;124mX and y must have the same length\u001B[39m\u001B[38;5;124m\"\u001B[39m)\n\u001B[0;32m     27\u001B[0m \u001B[38;5;28;01mif\u001B[39;00m features \u001B[38;5;129;01mis\u001B[39;00m \u001B[38;5;129;01mnot\u001B[39;00m \u001B[38;5;28;01mNone\u001B[39;00m \u001B[38;5;129;01mand\u001B[39;00m \u001B[38;5;28mlen\u001B[39m(X[\u001B[38;5;241m0\u001B[39m]) \u001B[38;5;241m!=\u001B[39m \u001B[38;5;28mlen\u001B[39m(features):\n\u001B[1;32m---> 28\u001B[0m     \u001B[38;5;28;01mraise\u001B[39;00m \u001B[38;5;167;01mValueError\u001B[39;00m(\u001B[38;5;124m\"\u001B[39m\u001B[38;5;124mNumber of features must match the number of columns in X\u001B[39m\u001B[38;5;124m\"\u001B[39m)\n\u001B[0;32m     29\u001B[0m \u001B[38;5;28;01mif\u001B[39;00m features \u001B[38;5;129;01mis\u001B[39;00m \u001B[38;5;28;01mNone\u001B[39;00m:\n\u001B[0;32m     30\u001B[0m     features \u001B[38;5;241m=\u001B[39m [\u001B[38;5;124mf\u001B[39m\u001B[38;5;124m\"\u001B[39m\u001B[38;5;124mfeat_\u001B[39m\u001B[38;5;132;01m{\u001B[39;00m\u001B[38;5;28mstr\u001B[39m(i)\u001B[38;5;132;01m}\u001B[39;00m\u001B[38;5;124m\"\u001B[39m \u001B[38;5;28;01mfor\u001B[39;00m i \u001B[38;5;129;01min\u001B[39;00m \u001B[38;5;28mrange\u001B[39m(X\u001B[38;5;241m.\u001B[39mshape[\u001B[38;5;241m1\u001B[39m])]\n",
      "\u001B[1;31mValueError\u001B[0m: Number of features must match the number of columns in X"
     ]
    }
   ],
   "source": [
    "score = model.score(test)\n",
    "\n",
    "print(f\"Accuracy on the test set: {score:.2f}\")"
   ],
   "metadata": {
    "collapsed": false,
    "ExecuteTime": {
     "end_time": "2023-11-02T21:40:07.967231400Z",
     "start_time": "2023-11-02T21:40:06.822925Z"
    }
   },
   "id": "f65d27c78e28e3f8"
  },
  {
   "cell_type": "markdown",
   "source": [
    "__Test the StackingClassifier model using the following protocol:__\n",
    "1. Use the breast-bin.csv dataset \n",
    "2. Split the data into train and test sets \n",
    "3. Create a KNNClassifier model \n",
    "4. Create a LogisticRegression model\n",
    "5. Create a DecisionTree model \n",
    "6. Create a second KNNClassifier model (final model) \n",
    "7. Create a StackingClassifier model using the previous classifiers. The second KNNClassifier model must be used as the final model.\n",
    "8. Train the StackingClassifier model. What is the score of the model on the test set?"
   ],
   "metadata": {
    "collapsed": false
   },
   "id": "a87881232cec9b7e"
  },
  {
   "cell_type": "code",
   "execution_count": 16,
   "outputs": [],
   "source": [
    "from si.models.knn_classifier import KNNClassifier\n",
    "from sklearn.preprocessing import StandardScaler\n",
    "from si.models.logistic_regression import LogisticRegression\n",
    "from si.ensemble.stacking_classifier import StackingClassifier\n",
    "from si.models.decision_tree_classifier import DecisionTreeClassifier\n",
    "from si.statistics.euclidean_distance import euclidean_distance"
   ],
   "metadata": {
    "collapsed": false,
    "ExecuteTime": {
     "end_time": "2023-11-02T22:17:58.863668700Z",
     "start_time": "2023-11-02T22:17:58.829231400Z"
    }
   },
   "id": "b08d979ac1a33617"
  },
  {
   "cell_type": "code",
   "execution_count": 9,
   "outputs": [
    {
     "data": {
      "text/plain": "array([[ 0.20885295, -0.69912815, -0.74242297, ..., -1.0000359 ,\n        -0.61132565, -0.34418721],\n       [-0.8578253 , -0.69912815, -0.74242297, ..., -0.58991542,\n        -0.61132565, -0.34418721],\n       [-0.8578253 , -0.69912815, -0.74242297, ..., -0.17979494,\n        -0.61132565, -0.34418721],\n       ...,\n       [ 0.20885295, -0.37139715, -0.40592217, ..., -1.0000359 ,\n        -0.61132565,  0.23892607],\n       [-0.8578253 , -0.04366616, -0.40592217, ..., -0.17979494,\n        -0.61132565, -0.34418721],\n       [ 0.91997179,  0.93952681,  0.94008103, ...,  1.46068699,\n        -0.61132565, -0.34418721]])"
     },
     "execution_count": 9,
     "metadata": {},
     "output_type": "execute_result"
    }
   ],
   "source": [
    "# standardization\n",
    "breast_bin.X = StandardScaler().fit_transform(breast_bin.X)\n",
    "breast_bin.X"
   ],
   "metadata": {
    "collapsed": false,
    "ExecuteTime": {
     "end_time": "2023-11-02T21:54:18.484540600Z",
     "start_time": "2023-11-02T21:54:18.463958500Z"
    }
   },
   "id": "af17171340b0f9de"
  },
  {
   "cell_type": "code",
   "execution_count": 10,
   "outputs": [
    {
     "data": {
      "text/plain": "array([0., 1., 0., 0., 0., 0., 1., 0., 0., 1., 0., 1., 1., 1., 0., 0., 0.,\n       0., 1., 0., 0., 1., 0., 1., 1., 0., 0., 0., 0., 0., 1., 0., 1., 0.,\n       0., 0., 0., 0., 1., 1., 0., 0., 1., 0., 0., 1., 1., 0., 0., 1., 1.,\n       0., 1., 0., 0., 1., 0., 0., 1., 0., 1., 1., 1., 0., 0., 1., 0., 0.,\n       1., 0., 0., 0., 0., 0., 1., 0., 0., 1., 0., 1., 0., 1., 0., 0., 0.,\n       1., 1., 0., 0., 0., 0., 1., 0., 1., 1., 0., 0., 0., 0., 1., 1., 0.,\n       1., 1., 0., 1., 0., 0., 0., 1., 1., 1., 0., 0., 0., 1., 0., 1., 1.,\n       0., 0., 0., 1., 0., 0., 0., 0., 0., 0., 0., 0., 1., 0., 0., 0., 1.,\n       0., 0., 1.])"
     },
     "execution_count": 10,
     "metadata": {},
     "output_type": "execute_result"
    }
   ],
   "source": [
    "# split dataset\n",
    "train_dataset, test_dataset = train_test_split(breast_bin)\n",
    "test_dataset.y"
   ],
   "metadata": {
    "collapsed": false,
    "ExecuteTime": {
     "end_time": "2023-11-02T21:54:39.242937600Z",
     "start_time": "2023-11-02T21:54:39.232859100Z"
    }
   },
   "id": "24b6db8c9453915c"
  },
  {
   "cell_type": "code",
   "execution_count": 18,
   "outputs": [],
   "source": [
    "# initialize the KNN, Logistic classifier and final model\n",
    "knn = KNNClassifier(k=3)\n",
    "lg_model = LogisticRegression(l2_penalty=1, alpha=0.001, max_iter=1000)\n",
    "dt_model = DecisionTreeClassifier()\n",
    "final_model = KNNClassifier(k=2, distance=euclidean_distance)"
   ],
   "metadata": {
    "collapsed": false,
    "ExecuteTime": {
     "end_time": "2023-11-02T22:19:00.918770300Z",
     "start_time": "2023-11-02T22:19:00.898787800Z"
    }
   },
   "id": "626b72922dbb6b0d"
  },
  {
   "cell_type": "code",
   "execution_count": 19,
   "outputs": [],
   "source": [
    "# initialize the stacking classifier\n",
    "stacking = StackingClassifier([knn, lg_model, dt_model], final_model)"
   ],
   "metadata": {
    "collapsed": false,
    "ExecuteTime": {
     "end_time": "2023-11-02T22:19:02.476863200Z",
     "start_time": "2023-11-02T22:19:02.449548800Z"
    }
   },
   "id": "f8763dbbe2be4d2d"
  },
  {
   "cell_type": "code",
   "execution_count": 20,
   "outputs": [
    {
     "data": {
      "text/plain": "<si.ensemble.stacking_classifier.StackingClassifier at 0x1d71b24fb90>"
     },
     "execution_count": 20,
     "metadata": {},
     "output_type": "execute_result"
    }
   ],
   "source": [
    "stacking.fit(train_dataset)"
   ],
   "metadata": {
    "collapsed": false,
    "ExecuteTime": {
     "end_time": "2023-11-02T22:19:04.207657900Z",
     "start_time": "2023-11-02T22:19:03.747507700Z"
    }
   },
   "id": "5861b3df5e137a23"
  },
  {
   "cell_type": "code",
   "execution_count": 21,
   "outputs": [
    {
     "data": {
      "text/plain": "array([0., 1., 0., 0., 0., 0., 1., 0., 0., 1., 0., 1., 1., 1., 0., 0., 0.,\n       0., 1., 0., 0., 1., 0., 1., 1., 0., 0., 0., 0., 0., 1., 0., 1., 0.,\n       0., 0., 0., 0., 1., 1., 0., 0., 1., 0., 0., 1., 1., 0., 0., 0., 1.,\n       0., 0., 0., 0., 1., 0., 0., 1., 0., 1., 1., 1., 0., 0., 1., 0., 0.,\n       1., 0., 0., 0., 0., 0., 0., 0., 0., 1., 0., 1., 0., 1., 0., 0., 0.,\n       1., 1., 0., 0., 0., 0., 1., 0., 1., 1., 0., 0., 0., 0., 1., 1., 0.,\n       1., 1., 0., 0., 0., 0., 0., 1., 1., 1., 0., 0., 0., 1., 0., 1., 1.,\n       0., 0., 0., 0., 0., 0., 0., 0., 0., 0., 0., 0., 1., 0., 0., 0., 1.,\n       0., 0., 1.])"
     },
     "execution_count": 21,
     "metadata": {},
     "output_type": "execute_result"
    }
   ],
   "source": [
    "stacking.predict(test_dataset)"
   ],
   "metadata": {
    "collapsed": false,
    "ExecuteTime": {
     "end_time": "2023-11-02T22:19:05.763730Z",
     "start_time": "2023-11-02T22:19:05.699852700Z"
    }
   },
   "id": "90344ee7b416db5b"
  },
  {
   "cell_type": "code",
   "execution_count": 25,
   "outputs": [
    {
     "name": "stdout",
     "output_type": "stream",
     "text": [
      "Score of the StackingClassifier on the test set: 0.9640287769784173\n"
     ]
    }
   ],
   "source": [
    "score = stacking.score(test_dataset)\n",
    "print(f\"Score of the StackingClassifier on the test set: {score}\")"
   ],
   "metadata": {
    "collapsed": false,
    "ExecuteTime": {
     "end_time": "2023-11-02T22:19:43.793981800Z",
     "start_time": "2023-11-02T22:19:43.747590900Z"
    }
   },
   "id": "5e3cf3cf68a55b4d"
  }
 ],
 "metadata": {
  "kernelspec": {
   "display_name": "Python 3",
   "language": "python",
   "name": "python3"
  },
  "language_info": {
   "codemirror_mode": {
    "name": "ipython",
    "version": 2
   },
   "file_extension": ".py",
   "mimetype": "text/x-python",
   "name": "python",
   "nbconvert_exporter": "python",
   "pygments_lexer": "ipython2",
   "version": "2.7.6"
  }
 },
 "nbformat": 4,
 "nbformat_minor": 5
}
