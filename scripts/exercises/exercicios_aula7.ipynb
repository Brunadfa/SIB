{
 "cells": [
  {
   "cell_type": "markdown",
   "source": [],
   "metadata": {
    "collapsed": false
   },
   "id": "61c09b9a69837a6f"
  },
  {
   "cell_type": "markdown",
   "source": [
    "__Test the StackingClassifier model using the following protocol:__\n",
    "1. Use the breast-bin.csv dataset \n",
    "2. Split the data into train and test sets \n",
    "3. Create a KNNClassifier model \n",
    "4. Create a LogisticRegression model\n",
    "5. Create a DecisionTree model \n",
    "6. Create a second KNNClassifier model (final model) \n",
    "7. Create a StackingClassifier model using the previous classifiers. The second KNNClassifier model must be used as the final model.\n",
    "8. Train the StackingClassifier model. What is the score of the model on the test set?"
   ],
   "metadata": {
    "collapsed": false
   },
   "id": "a87881232cec9b7e"
  },
  {
   "cell_type": "code",
   "execution_count": 1,
   "outputs": [],
   "source": [
    "from si.models.knn_classifier import KNNClassifier\n",
    "from sklearn.preprocessing import StandardScaler\n",
    "from si.models.logistic_regression import LogisticRegression\n",
    "from si.ensemble.stacking_classifier import StackingClassifier\n",
    "from si.models.decision_tree_classifier import DecisionTreeClassifier\n",
    "from si.statistics.euclidean_distance import euclidean_distance\n",
    "from si.IO.CSV import read_csv\n",
    "from si.model_selection.split import train_test_split\n",
    "from si.model_selection.grid_search import grid_search_cv\n",
    "from si.model_selection.cross_validate import k_fold_cross_validation\n",
    "breast_bin = read_csv(r'C:\\Users\\bruna\\PycharmProjects\\SIB\\datasets\\breast_bin\\breast-bin.csv', sep=\",\", label=True, features=True)"
   ],
   "metadata": {
    "collapsed": false,
    "ExecuteTime": {
     "end_time": "2023-11-10T15:11:07.740892500Z",
     "start_time": "2023-11-10T15:11:01.621593600Z"
    }
   },
   "id": "b08d979ac1a33617"
  },
  {
   "cell_type": "code",
   "execution_count": 9,
   "outputs": [
    {
     "data": {
      "text/plain": "array([[ 0.20885295, -0.69912815, -0.74242297, ..., -1.0000359 ,\n        -0.61132565, -0.34418721],\n       [-0.8578253 , -0.69912815, -0.74242297, ..., -0.58991542,\n        -0.61132565, -0.34418721],\n       [-0.8578253 , -0.69912815, -0.74242297, ..., -0.17979494,\n        -0.61132565, -0.34418721],\n       ...,\n       [ 0.20885295, -0.37139715, -0.40592217, ..., -1.0000359 ,\n        -0.61132565,  0.23892607],\n       [-0.8578253 , -0.04366616, -0.40592217, ..., -0.17979494,\n        -0.61132565, -0.34418721],\n       [ 0.91997179,  0.93952681,  0.94008103, ...,  1.46068699,\n        -0.61132565, -0.34418721]])"
     },
     "execution_count": 9,
     "metadata": {},
     "output_type": "execute_result"
    }
   ],
   "source": [
    "# standardization\n",
    "breast_bin.X = StandardScaler().fit_transform(breast_bin.X)\n",
    "breast_bin.X"
   ],
   "metadata": {
    "collapsed": false,
    "ExecuteTime": {
     "end_time": "2023-11-06T19:17:24.360197100Z",
     "start_time": "2023-11-06T19:17:24.322057900Z"
    }
   },
   "id": "af17171340b0f9de"
  },
  {
   "cell_type": "code",
   "execution_count": 10,
   "outputs": [
    {
     "data": {
      "text/plain": "array([0., 1., 0., 0., 0., 0., 1., 0., 0., 1., 0., 1., 1., 1., 0., 0., 0.,\n       0., 1., 0., 0., 1., 0., 1., 1., 0., 0., 0., 0., 0., 1., 0., 1., 0.,\n       0., 0., 0., 0., 1., 1., 0., 0., 1., 0., 0., 1., 1., 0., 0., 1., 1.,\n       0., 1., 0., 0., 1., 0., 0., 1., 0., 1., 1., 1., 0., 0., 1., 0., 0.,\n       1., 0., 0., 0., 0., 0., 1., 0., 0., 1., 0., 1., 0., 1., 0., 0., 0.,\n       1., 1., 0., 0., 0., 0., 1., 0., 1., 1., 0., 0., 0., 0., 1., 1., 0.,\n       1., 1., 0., 1., 0., 0., 0., 1., 1., 1., 0., 0., 0., 1., 0., 1., 1.,\n       0., 0., 0., 1., 0., 0., 0., 0., 0., 0., 0., 0., 1., 0., 0., 0., 1.,\n       0., 0., 1.])"
     },
     "execution_count": 10,
     "metadata": {},
     "output_type": "execute_result"
    }
   ],
   "source": [
    "train_dataset, test_dataset = train_test_split(breast_bin)\n",
    "test_dataset.y"
   ],
   "metadata": {
    "collapsed": false,
    "ExecuteTime": {
     "end_time": "2023-11-02T21:54:39.242937600Z",
     "start_time": "2023-11-02T21:54:39.232859100Z"
    }
   },
   "id": "24b6db8c9453915c"
  },
  {
   "cell_type": "code",
   "execution_count": 18,
   "outputs": [],
   "source": [
    "# initialize the KNN, Logistic classifier and final model\n",
    "knn = KNNClassifier(k=3)\n",
    "lg_model = LogisticRegression(l2_penalty=1, alpha=0.001, max_iter=1000)\n",
    "dt_model = DecisionTreeClassifier()\n",
    "final_model = KNNClassifier(k=2, distance=euclidean_distance)"
   ],
   "metadata": {
    "collapsed": false,
    "ExecuteTime": {
     "end_time": "2023-11-02T22:19:00.918770300Z",
     "start_time": "2023-11-02T22:19:00.898787800Z"
    }
   },
   "id": "626b72922dbb6b0d"
  },
  {
   "cell_type": "code",
   "execution_count": 19,
   "outputs": [],
   "source": [
    "# initialize the stacking classifier\n",
    "stacking = StackingClassifier([knn, lg_model, dt_model], final_model)"
   ],
   "metadata": {
    "collapsed": false,
    "ExecuteTime": {
     "end_time": "2023-11-02T22:19:02.476863200Z",
     "start_time": "2023-11-02T22:19:02.449548800Z"
    }
   },
   "id": "f8763dbbe2be4d2d"
  },
  {
   "cell_type": "code",
   "execution_count": 20,
   "outputs": [
    {
     "data": {
      "text/plain": "<si.ensemble.stacking_classifier.StackingClassifier at 0x1d71b24fb90>"
     },
     "execution_count": 20,
     "metadata": {},
     "output_type": "execute_result"
    }
   ],
   "source": [
    "stacking.fit(train_dataset)"
   ],
   "metadata": {
    "collapsed": false,
    "ExecuteTime": {
     "end_time": "2023-11-02T22:19:04.207657900Z",
     "start_time": "2023-11-02T22:19:03.747507700Z"
    }
   },
   "id": "5861b3df5e137a23"
  },
  {
   "cell_type": "code",
   "execution_count": 21,
   "outputs": [
    {
     "data": {
      "text/plain": "array([0., 1., 0., 0., 0., 0., 1., 0., 0., 1., 0., 1., 1., 1., 0., 0., 0.,\n       0., 1., 0., 0., 1., 0., 1., 1., 0., 0., 0., 0., 0., 1., 0., 1., 0.,\n       0., 0., 0., 0., 1., 1., 0., 0., 1., 0., 0., 1., 1., 0., 0., 0., 1.,\n       0., 0., 0., 0., 1., 0., 0., 1., 0., 1., 1., 1., 0., 0., 1., 0., 0.,\n       1., 0., 0., 0., 0., 0., 0., 0., 0., 1., 0., 1., 0., 1., 0., 0., 0.,\n       1., 1., 0., 0., 0., 0., 1., 0., 1., 1., 0., 0., 0., 0., 1., 1., 0.,\n       1., 1., 0., 0., 0., 0., 0., 1., 1., 1., 0., 0., 0., 1., 0., 1., 1.,\n       0., 0., 0., 0., 0., 0., 0., 0., 0., 0., 0., 0., 1., 0., 0., 0., 1.,\n       0., 0., 1.])"
     },
     "execution_count": 21,
     "metadata": {},
     "output_type": "execute_result"
    }
   ],
   "source": [
    "stacking.predict(test_dataset)"
   ],
   "metadata": {
    "collapsed": false,
    "ExecuteTime": {
     "end_time": "2023-11-02T22:19:05.763730Z",
     "start_time": "2023-11-02T22:19:05.699852700Z"
    }
   },
   "id": "90344ee7b416db5b"
  },
  {
   "cell_type": "code",
   "execution_count": 25,
   "outputs": [
    {
     "name": "stdout",
     "output_type": "stream",
     "text": [
      "Score of the StackingClassifier on the test set: 0.9640287769784173\n"
     ]
    }
   ],
   "source": [
    "score = stacking.score(test_dataset)\n",
    "print(f\"Score of the StackingClassifier on the test set: {score}\")"
   ],
   "metadata": {
    "collapsed": false,
    "ExecuteTime": {
     "end_time": "2023-11-02T22:19:43.793981800Z",
     "start_time": "2023-11-02T22:19:43.747590900Z"
    }
   },
   "id": "5e3cf3cf68a55b4d"
  },
  {
   "cell_type": "markdown",
   "source": [
    "__Test the grid_search_cv function using the following protocol:__\n",
    "1. Use the breast-bin.csv dataset \n",
    "2. Create a LogisticRegression model\n",
    "3. Perform grid search using the following hyperparameters: - l2_penalty: 1, 10 - alpha: 0.001, 0.0001 - max_iter: 1000, 2000\n",
    "4. Use 3 folds for the cross validation. \n",
    "5. Which scores do you obtain? What are the best score and best hyperparameters?"
   ],
   "metadata": {
    "collapsed": false
   },
   "id": "bdf438a4f2d02e91"
  },
  {
   "cell_type": "code",
   "execution_count": 2,
   "outputs": [
    {
     "data": {
      "text/plain": "[0.6330935251798561,\n 0.6474820143884892,\n 0.6762589928057554,\n 0.7266187050359713,\n 0.5971223021582733]"
     },
     "execution_count": 2,
     "metadata": {},
     "output_type": "execute_result"
    }
   ],
   "source": [
    "LG = LogisticRegression()\n",
    "scores = k_fold_cross_validation(LG, breast_bin, cv=5)\n",
    "scores"
   ],
   "metadata": {
    "collapsed": false,
    "ExecuteTime": {
     "end_time": "2023-11-10T15:11:40.690273600Z",
     "start_time": "2023-11-10T15:11:40.128905200Z"
    }
   },
   "id": "6986937fe25a0746"
  },
  {
   "cell_type": "code",
   "execution_count": 3,
   "outputs": [
    {
     "data": {
      "text/plain": "{'scores': [0.6551724137931035,\n  0.6566091954022989,\n  0.6580459770114943,\n  0.6551724137931035,\n  0.6551724137931034,\n  0.6551724137931035,\n  0.6551724137931035,\n  0.6566091954022988,\n  0.6566091954022988,\n  0.6566091954022989,\n  0.6566091954022989,\n  0.6566091954022989,\n  0.6566091954022989,\n  0.6566091954022989,\n  0.6551724137931035,\n  0.6551724137931035,\n  0.6551724137931035,\n  0.6551724137931035,\n  0.6551724137931035,\n  0.6566091954022989,\n  0.6566091954022989,\n  0.6566091954022988,\n  0.6551724137931034,\n  0.6551724137931035,\n  0.6551724137931035,\n  0.6580459770114943,\n  0.6566091954022989,\n  0.6566091954022988,\n  0.6566091954022988,\n  0.6566091954022989,\n  0.6551724137931034,\n  0.6566091954022989,\n  0.6566091954022989,\n  0.6580459770114943,\n  0.6551724137931035,\n  0.6566091954022989],\n 'hyperparameters': [{'l2_penalty': 1, 'alpha': 0.001, 'max_iter': 1000},\n  {'l2_penalty': 1, 'alpha': 0.001, 'max_iter': 2000},\n  {'l2_penalty': 1, 'alpha': 0.001, 'max_iter': 3000},\n  {'l2_penalty': 1, 'alpha': 0.001, 'max_iter': 4000},\n  {'l2_penalty': 1, 'alpha': 0.001, 'max_iter': 5000},\n  {'l2_penalty': 1, 'alpha': 0.001, 'max_iter': 6000},\n  {'l2_penalty': 1, 'alpha': 0.0001, 'max_iter': 1000},\n  {'l2_penalty': 1, 'alpha': 0.0001, 'max_iter': 2000},\n  {'l2_penalty': 1, 'alpha': 0.0001, 'max_iter': 3000},\n  {'l2_penalty': 1, 'alpha': 0.0001, 'max_iter': 4000},\n  {'l2_penalty': 1, 'alpha': 0.0001, 'max_iter': 5000},\n  {'l2_penalty': 1, 'alpha': 0.0001, 'max_iter': 6000},\n  {'l2_penalty': 1, 'alpha': 1e-05, 'max_iter': 1000},\n  {'l2_penalty': 1, 'alpha': 1e-05, 'max_iter': 2000},\n  {'l2_penalty': 1, 'alpha': 1e-05, 'max_iter': 3000},\n  {'l2_penalty': 1, 'alpha': 1e-05, 'max_iter': 4000},\n  {'l2_penalty': 1, 'alpha': 1e-05, 'max_iter': 5000},\n  {'l2_penalty': 1, 'alpha': 1e-05, 'max_iter': 6000},\n  {'l2_penalty': 10, 'alpha': 0.001, 'max_iter': 1000},\n  {'l2_penalty': 10, 'alpha': 0.001, 'max_iter': 2000},\n  {'l2_penalty': 10, 'alpha': 0.001, 'max_iter': 3000},\n  {'l2_penalty': 10, 'alpha': 0.001, 'max_iter': 4000},\n  {'l2_penalty': 10, 'alpha': 0.001, 'max_iter': 5000},\n  {'l2_penalty': 10, 'alpha': 0.001, 'max_iter': 6000},\n  {'l2_penalty': 10, 'alpha': 0.0001, 'max_iter': 1000},\n  {'l2_penalty': 10, 'alpha': 0.0001, 'max_iter': 2000},\n  {'l2_penalty': 10, 'alpha': 0.0001, 'max_iter': 3000},\n  {'l2_penalty': 10, 'alpha': 0.0001, 'max_iter': 4000},\n  {'l2_penalty': 10, 'alpha': 0.0001, 'max_iter': 5000},\n  {'l2_penalty': 10, 'alpha': 0.0001, 'max_iter': 6000},\n  {'l2_penalty': 10, 'alpha': 1e-05, 'max_iter': 1000},\n  {'l2_penalty': 10, 'alpha': 1e-05, 'max_iter': 2000},\n  {'l2_penalty': 10, 'alpha': 1e-05, 'max_iter': 3000},\n  {'l2_penalty': 10, 'alpha': 1e-05, 'max_iter': 4000},\n  {'l2_penalty': 10, 'alpha': 1e-05, 'max_iter': 5000},\n  {'l2_penalty': 10, 'alpha': 1e-05, 'max_iter': 6000}],\n 'best_hyperparameters': {'l2_penalty': 1, 'alpha': 0.001, 'max_iter': 3000},\n 'best_score': 0.6580459770114943}"
     },
     "execution_count": 3,
     "metadata": {},
     "output_type": "execute_result"
    }
   ],
   "source": [
    "LG = LogisticRegression()\n",
    "\n",
    "# parameter grid\n",
    "parameter_grid = {\n",
    "    'l2_penalty': (1, 10),\n",
    "    'alpha': (0.001, 0.0001, 0.00001),\n",
    "    'max_iter': (1000, 2000, 3000, 4000, 5000, 6000)\n",
    "}\n",
    "\n",
    "# cross validate the model\n",
    "scores = grid_search_cv(LG,\n",
    "                        breast_bin,\n",
    "                        hyperparameter_grid=parameter_grid,\n",
    "                        cv=3)\n",
    "\n",
    "scores"
   ],
   "metadata": {
    "collapsed": false,
    "ExecuteTime": {
     "end_time": "2023-11-10T15:12:36.734747200Z",
     "start_time": "2023-11-10T15:12:08.597615800Z"
    }
   },
   "id": "ae2587944f31cdd9"
  },
  {
   "cell_type": "code",
   "execution_count": 4,
   "outputs": [
    {
     "data": {
      "text/plain": "[0.6551724137931035,\n 0.6566091954022989,\n 0.6580459770114943,\n 0.6551724137931035,\n 0.6551724137931034,\n 0.6551724137931035,\n 0.6551724137931035,\n 0.6566091954022988,\n 0.6566091954022988,\n 0.6566091954022989,\n 0.6566091954022989,\n 0.6566091954022989,\n 0.6566091954022989,\n 0.6566091954022989,\n 0.6551724137931035,\n 0.6551724137931035,\n 0.6551724137931035,\n 0.6551724137931035,\n 0.6551724137931035,\n 0.6566091954022989,\n 0.6566091954022989,\n 0.6566091954022988,\n 0.6551724137931034,\n 0.6551724137931035,\n 0.6551724137931035,\n 0.6580459770114943,\n 0.6566091954022989,\n 0.6566091954022988,\n 0.6566091954022988,\n 0.6566091954022989,\n 0.6551724137931034,\n 0.6566091954022989,\n 0.6566091954022989,\n 0.6580459770114943,\n 0.6551724137931035,\n 0.6566091954022989]"
     },
     "execution_count": 4,
     "metadata": {},
     "output_type": "execute_result"
    }
   ],
   "source": [
    "scores['scores']"
   ],
   "metadata": {
    "collapsed": false,
    "ExecuteTime": {
     "end_time": "2023-11-10T15:13:07.240809300Z",
     "start_time": "2023-11-10T15:13:07.223156700Z"
    }
   },
   "id": "5426f258d641d1a"
  }
 ],
 "metadata": {
  "kernelspec": {
   "display_name": "Python 3",
   "language": "python",
   "name": "python3"
  },
  "language_info": {
   "codemirror_mode": {
    "name": "ipython",
    "version": 2
   },
   "file_extension": ".py",
   "mimetype": "text/x-python",
   "name": "python",
   "nbconvert_exporter": "python",
   "pygments_lexer": "ipython2",
   "version": "2.7.6"
  }
 },
 "nbformat": 4,
 "nbformat_minor": 5
}
