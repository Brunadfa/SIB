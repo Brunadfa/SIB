{
 "cells": [
  {
   "cell_type": "markdown",
   "source": [
    "__Test the \"stratified_train_test_split\" function with the iris dataset.__"
   ],
   "metadata": {
    "collapsed": false
   },
   "id": "d322b21168f59f5e"
  },
  {
   "cell_type": "code",
   "execution_count": 15,
   "outputs": [],
   "source": [
    "import numpy as np\n",
    "import pandas as pd\n",
    "from si.Data.dataset import Dataset\n",
    "from si.IO.CSV import read_csv\n",
    "from si.model_selection.split import stratified_train_test_split, train_test_split"
   ],
   "metadata": {
    "collapsed": false,
    "ExecuteTime": {
     "end_time": "2023-11-10T15:31:10.224521500Z",
     "start_time": "2023-11-10T15:31:10.210499800Z"
    }
   },
   "id": "6bfa27e01320eee8"
  },
  {
   "cell_type": "code",
   "execution_count": 16,
   "outputs": [],
   "source": [
    "df_iris = read_csv(r'C:\\Users\\bruna\\PycharmProjects\\SIB\\datasets\\iris\\iris.csv', sep=\",\", label=True)"
   ],
   "metadata": {
    "collapsed": false,
    "ExecuteTime": {
     "end_time": "2023-11-10T15:31:11.917305600Z",
     "start_time": "2023-11-10T15:31:11.900840400Z"
    }
   },
   "id": "5efea51e45ba0d71"
  },
  {
   "cell_type": "code",
   "execution_count": 17,
   "outputs": [
    {
     "data": {
      "text/plain": "array(['Iris-setosa', 'Iris-versicolor', 'Iris-virginica'], dtype=object)"
     },
     "execution_count": 17,
     "metadata": {},
     "output_type": "execute_result"
    }
   ],
   "source": [
    "df_iris.shape()  \n",
    "df_iris.get_classes()"
   ],
   "metadata": {
    "collapsed": false,
    "ExecuteTime": {
     "end_time": "2023-11-10T15:31:13.091699900Z",
     "start_time": "2023-11-10T15:31:13.078403100Z"
    }
   },
   "id": "4b9bc0025ea9c3b0"
  },
  {
   "cell_type": "code",
   "execution_count": 18,
   "outputs": [
    {
     "ename": "IndexError",
     "evalue": "only integers, slices (`:`), ellipsis (`...`), numpy.newaxis (`None`) and integer or boolean arrays are valid indices",
     "output_type": "error",
     "traceback": [
      "\u001B[1;31m---------------------------------------------------------------------------\u001B[0m",
      "\u001B[1;31mIndexError\u001B[0m                                Traceback (most recent call last)",
      "Cell \u001B[1;32mIn[18], line 1\u001B[0m\n\u001B[1;32m----> 1\u001B[0m train_data, test_data \u001B[38;5;241m=\u001B[39m stratified_train_test_split(df_iris, test_size\u001B[38;5;241m=\u001B[39m\u001B[38;5;241m0.2\u001B[39m, random_state\u001B[38;5;241m=\u001B[39m\u001B[38;5;241m42\u001B[39m)\n\u001B[0;32m      2\u001B[0m \u001B[38;5;28mprint\u001B[39m(\u001B[38;5;124m'\u001B[39m\u001B[38;5;124mTrain data: \u001B[39m\u001B[38;5;124m'\u001B[39m, train_data\u001B[38;5;241m.\u001B[39mshape())\n\u001B[0;32m      3\u001B[0m \u001B[38;5;28mprint\u001B[39m(\u001B[38;5;124m'\u001B[39m\u001B[38;5;124mTest Data: \u001B[39m\u001B[38;5;124m'\u001B[39m, test_data\u001B[38;5;241m.\u001B[39mshape())\n",
      "File \u001B[1;32m~\\PycharmProjects\\SIB\\src\\si\\model_selection\\split.py:67\u001B[0m, in \u001B[0;36mstratified_train_test_split\u001B[1;34m(dataset, test_size, random_state)\u001B[0m\n\u001B[0;32m     65\u001B[0m \u001B[38;5;28;01mfor\u001B[39;00m label \u001B[38;5;129;01min\u001B[39;00m unique_labels:\n\u001B[0;32m     66\u001B[0m     label_indices \u001B[38;5;241m=\u001B[39m np\u001B[38;5;241m.\u001B[39mwhere(dataset\u001B[38;5;241m.\u001B[39my \u001B[38;5;241m==\u001B[39m label)[\u001B[38;5;241m0\u001B[39m]\n\u001B[1;32m---> 67\u001B[0m     num_test_samples \u001B[38;5;241m=\u001B[39m \u001B[38;5;28mint\u001B[39m(label_counts[label] \u001B[38;5;241m*\u001B[39m test_size)\n\u001B[0;32m     69\u001B[0m     shuffled_indices \u001B[38;5;241m=\u001B[39m np\u001B[38;5;241m.\u001B[39mrandom\u001B[38;5;241m.\u001B[39mpermutation(label_indices)\n\u001B[0;32m     70\u001B[0m     test_indices\u001B[38;5;241m.\u001B[39mextend(shuffled_indices[:num_test_samples])\n",
      "\u001B[1;31mIndexError\u001B[0m: only integers, slices (`:`), ellipsis (`...`), numpy.newaxis (`None`) and integer or boolean arrays are valid indices"
     ]
    }
   ],
   "source": [
    "train_data, test_data = stratified_train_test_split(df_iris, test_size=0.2, random_state=42)\n",
    "print('Train data: ', train_data.shape())\n",
    "print('Test Data: ', test_data.shape())"
   ],
   "metadata": {
    "collapsed": false,
    "ExecuteTime": {
     "end_time": "2023-11-10T15:31:14.492890200Z",
     "start_time": "2023-11-10T15:31:14.448089300Z"
    }
   },
   "id": "fe9a9b965ac16ca9"
  },
  {
   "cell_type": "markdown",
   "source": [
    "__Test the \"KNNRegressor\" class using the \"cpu.csv\" dataset (regression).__"
   ],
   "metadata": {
    "collapsed": false
   },
   "id": "a6b85df0dd3815b7"
  },
  {
   "cell_type": "code",
   "execution_count": 31,
   "outputs": [],
   "source": [
    "from si.models.knn_regressor import KNNRegressor\n",
    "from si.model_selection.split import train_test_split"
   ],
   "metadata": {
    "collapsed": false,
    "ExecuteTime": {
     "end_time": "2023-10-11T17:04:38.710729100Z",
     "start_time": "2023-10-11T17:04:38.708896500Z"
    }
   },
   "id": "7ac2e7f0537cc3dc"
  },
  {
   "cell_type": "code",
   "execution_count": 27,
   "outputs": [],
   "source": [
    "cpu = read_csv(r'C:\\Users\\bruna\\PycharmProjects\\SIB\\datasets\\cpu\\cpu.csv', sep=\",\", label=True, features=True)"
   ],
   "metadata": {
    "collapsed": false,
    "ExecuteTime": {
     "end_time": "2023-10-11T17:02:25.416357600Z",
     "start_time": "2023-10-11T17:02:25.407172600Z"
    }
   },
   "id": "2555327e9eec7a4b"
  },
  {
   "cell_type": "code",
   "execution_count": 32,
   "outputs": [],
   "source": [
    "train_dataset, test_dataset = train_test_split(cpu)"
   ],
   "metadata": {
    "collapsed": false,
    "ExecuteTime": {
     "end_time": "2023-10-11T17:04:42.633268100Z",
     "start_time": "2023-10-11T17:04:42.629138400Z"
    }
   },
   "id": "948e08ead481ab64"
  },
  {
   "cell_type": "code",
   "execution_count": 34,
   "outputs": [
    {
     "data": {
      "text/plain": "array([192. ,  31. ,  31. , 893. ,  18. , 323.5,  51. ,  26.5, 893. ,\n       127.5,  67. ,  76. ,  54. ,  63.5,  94. ,  30. ,  75. ,  18.5,\n       162. ,  56. ,  78. ,  78. , 115.5,  33.5,  14.5,  81.5,  21.5,\n        31. ,  21.5,  79.5, 344. ,  31. , 115.5,  21. ,  18. ,  39. ,\n        32. , 416. ,  94. ,  27.5, 127.5])"
     },
     "execution_count": 34,
     "metadata": {},
     "output_type": "execute_result"
    }
   ],
   "source": [
    "k = 2\n",
    "kmeans = KNNRegressor(k)\n",
    "kmeans.fit(train_dataset)\n",
    "predictions = kmeans.predict(test_dataset)\n",
    "predictions"
   ],
   "metadata": {
    "collapsed": false,
    "ExecuteTime": {
     "end_time": "2023-10-11T17:05:43.911419400Z",
     "start_time": "2023-10-11T17:05:43.895163400Z"
    }
   },
   "id": "ff4e7689d6b5c77a"
  },
  {
   "cell_type": "code",
   "execution_count": 35,
   "outputs": [
    {
     "data": {
      "text/plain": "(61.366501945080834+0j)"
     },
     "execution_count": 35,
     "metadata": {},
     "output_type": "execute_result"
    }
   ],
   "source": [
    "kmeans.score(test_dataset)"
   ],
   "metadata": {
    "collapsed": false,
    "ExecuteTime": {
     "end_time": "2023-10-11T17:05:56.636526900Z",
     "start_time": "2023-10-11T17:05:56.628808Z"
    }
   },
   "id": "dbe0a193c107cbf4"
  }
 ],
 "metadata": {
  "kernelspec": {
   "display_name": "Python 3",
   "language": "python",
   "name": "python3"
  },
  "language_info": {
   "codemirror_mode": {
    "name": "ipython",
    "version": 2
   },
   "file_extension": ".py",
   "mimetype": "text/x-python",
   "name": "python",
   "nbconvert_exporter": "python",
   "pygments_lexer": "ipython2",
   "version": "2.7.6"
  }
 },
 "nbformat": 4,
 "nbformat_minor": 5
}
