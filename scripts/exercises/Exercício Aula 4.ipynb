{
 "cells": [
  {
   "cell_type": "markdown",
   "source": [
    "__Test the \"stratified_train_test_split\" function with the iris dataset.__"
   ],
   "metadata": {
    "collapsed": false
   },
   "id": "d322b21168f59f5e"
  },
  {
   "cell_type": "code",
   "execution_count": 1,
   "outputs": [],
   "source": [
    "import numpy as np\n",
    "import pandas as pd\n",
    "from si.Data.dataset import Dataset\n",
    "from si.IO.CSV import read_csv\n",
    "from si.model_selection.split import stratified_train_test_split"
   ],
   "metadata": {
    "collapsed": false,
    "ExecuteTime": {
     "end_time": "2023-10-13T12:22:50.268659900Z",
     "start_time": "2023-10-13T12:22:49.003055500Z"
    }
   },
   "id": "6bfa27e01320eee8"
  },
  {
   "cell_type": "code",
   "execution_count": 2,
   "outputs": [],
   "source": [
    "df_iris = read_csv(r'C:\\Users\\bruna\\PycharmProjects\\SIB\\datasets\\iris\\iris.csv', sep=\",\", label=True)"
   ],
   "metadata": {
    "collapsed": false,
    "ExecuteTime": {
     "end_time": "2023-10-13T12:22:52.259683100Z",
     "start_time": "2023-10-13T12:22:52.209119600Z"
    }
   },
   "id": "5efea51e45ba0d71"
  },
  {
   "cell_type": "code",
   "execution_count": 8,
   "outputs": [
    {
     "ename": "AttributeError",
     "evalue": "'Dataset' object has no attribute 'data'",
     "output_type": "error",
     "traceback": [
      "\u001B[1;31m---------------------------------------------------------------------------\u001B[0m",
      "\u001B[1;31mAttributeError\u001B[0m                            Traceback (most recent call last)",
      "Cell \u001B[1;32mIn[8], line 1\u001B[0m\n\u001B[1;32m----> 1\u001B[0m X, y \u001B[38;5;241m=\u001B[39m df_iris\u001B[38;5;241m.\u001B[39mdata, df_iris\u001B[38;5;241m.\u001B[39mtarget\n\u001B[0;32m      2\u001B[0m iris_dataset \u001B[38;5;241m=\u001B[39m Dataset(X, y)\n\u001B[0;32m      4\u001B[0m \u001B[38;5;66;03m# Split the dataset into training and testing datasets\u001B[39;00m\n",
      "\u001B[1;31mAttributeError\u001B[0m: 'Dataset' object has no attribute 'data'"
     ]
    }
   ],
   "source": [
    "X, y = df_iris.data, df_iris.target\n",
    "iris_dataset = Dataset(X, y)\n",
    "\n",
    "train_dataset, test_dataset = stratified_train_test_split(iris_dataset, test_size=0.2, random_state=42)\n",
    "\n",
    "#print(\"Train dataset shape:\", train_dataset.shape)\n",
    "#print(\"Test dataset shape:\", test_dataset.shape)"
   ],
   "metadata": {
    "collapsed": false,
    "ExecuteTime": {
     "end_time": "2023-10-13T12:28:00.726636200Z",
     "start_time": "2023-10-13T12:28:00.714380500Z"
    }
   },
   "id": "4b9bc0025ea9c3b0"
  },
  {
   "cell_type": "markdown",
   "source": [
    "__Test the \"KNNRegressor\" class using the \"cpu.csv\" dataset (regression).__"
   ],
   "metadata": {
    "collapsed": false
   },
   "id": "a6b85df0dd3815b7"
  },
  {
   "cell_type": "code",
   "execution_count": 31,
   "outputs": [],
   "source": [
    "from si.models.knn_regressor import KNNRegressor\n",
    "from si.model_selection.split import train_test_split"
   ],
   "metadata": {
    "collapsed": false,
    "ExecuteTime": {
     "end_time": "2023-10-11T17:04:38.710729100Z",
     "start_time": "2023-10-11T17:04:38.708896500Z"
    }
   },
   "id": "7ac2e7f0537cc3dc"
  },
  {
   "cell_type": "code",
   "execution_count": 27,
   "outputs": [],
   "source": [
    "cpu = read_csv(r'C:\\Users\\bruna\\PycharmProjects\\SIB\\datasets\\cpu\\cpu.csv', sep=\",\", label=True, features=True)"
   ],
   "metadata": {
    "collapsed": false,
    "ExecuteTime": {
     "end_time": "2023-10-11T17:02:25.416357600Z",
     "start_time": "2023-10-11T17:02:25.407172600Z"
    }
   },
   "id": "2555327e9eec7a4b"
  },
  {
   "cell_type": "code",
   "execution_count": 32,
   "outputs": [],
   "source": [
    "train_dataset, test_dataset = train_test_split(cpu)"
   ],
   "metadata": {
    "collapsed": false,
    "ExecuteTime": {
     "end_time": "2023-10-11T17:04:42.633268100Z",
     "start_time": "2023-10-11T17:04:42.629138400Z"
    }
   },
   "id": "948e08ead481ab64"
  },
  {
   "cell_type": "code",
   "execution_count": 34,
   "outputs": [
    {
     "data": {
      "text/plain": "array([192. ,  31. ,  31. , 893. ,  18. , 323.5,  51. ,  26.5, 893. ,\n       127.5,  67. ,  76. ,  54. ,  63.5,  94. ,  30. ,  75. ,  18.5,\n       162. ,  56. ,  78. ,  78. , 115.5,  33.5,  14.5,  81.5,  21.5,\n        31. ,  21.5,  79.5, 344. ,  31. , 115.5,  21. ,  18. ,  39. ,\n        32. , 416. ,  94. ,  27.5, 127.5])"
     },
     "execution_count": 34,
     "metadata": {},
     "output_type": "execute_result"
    }
   ],
   "source": [
    "k = 2\n",
    "kmeans = KNNRegressor(k)\n",
    "kmeans.fit(train_dataset)\n",
    "predictions = kmeans.predict(test_dataset)\n",
    "predictions"
   ],
   "metadata": {
    "collapsed": false,
    "ExecuteTime": {
     "end_time": "2023-10-11T17:05:43.911419400Z",
     "start_time": "2023-10-11T17:05:43.895163400Z"
    }
   },
   "id": "ff4e7689d6b5c77a"
  },
  {
   "cell_type": "code",
   "execution_count": 35,
   "outputs": [
    {
     "data": {
      "text/plain": "(61.366501945080834+0j)"
     },
     "execution_count": 35,
     "metadata": {},
     "output_type": "execute_result"
    }
   ],
   "source": [
    "kmeans.score(test_dataset)"
   ],
   "metadata": {
    "collapsed": false,
    "ExecuteTime": {
     "end_time": "2023-10-11T17:05:56.636526900Z",
     "start_time": "2023-10-11T17:05:56.628808Z"
    }
   },
   "id": "dbe0a193c107cbf4"
  }
 ],
 "metadata": {
  "kernelspec": {
   "display_name": "Python 3",
   "language": "python",
   "name": "python3"
  },
  "language_info": {
   "codemirror_mode": {
    "name": "ipython",
    "version": 2
   },
   "file_extension": ".py",
   "mimetype": "text/x-python",
   "name": "python",
   "nbconvert_exporter": "python",
   "pygments_lexer": "ipython2",
   "version": "2.7.6"
  }
 },
 "nbformat": 4,
 "nbformat_minor": 5
}
