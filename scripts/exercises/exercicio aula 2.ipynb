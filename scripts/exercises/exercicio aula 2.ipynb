{
 "cells": [
  {
   "cell_type": "markdown",
   "source": [
    "__Test the SelectPercentile class in a Jupyter notebook using the \"iris.csv\" dataset (classification).__"
   ],
   "metadata": {
    "collapsed": false
   },
   "id": "430651cec823bc30"
  },
  {
   "cell_type": "code",
   "execution_count": 26,
   "id": "initial_id",
   "metadata": {
    "collapsed": true,
    "ExecuteTime": {
     "end_time": "2023-10-05T17:59:40.836736500Z",
     "start_time": "2023-10-05T17:59:40.827809600Z"
    }
   },
   "outputs": [],
   "source": [
    "import numpy as np\n",
    "from src.si.Data.dataset import Dataset\n",
    "from src.si.statistics.f_classification import f_classification\n",
    "from src.si.feature_selection.SelectPercentile import SelectPercentile\n",
    "from src.si.IO.CSV import read_csv"
   ]
  },
  {
   "cell_type": "code",
   "execution_count": 23,
   "outputs": [],
   "source": [
    "dataset = read_csv(r'C:\\Users\\bruna\\PycharmProjects\\SIB\\src\\feature_selection\\iris.csv', sep=\",\", label=True)\n"
   ],
   "metadata": {
    "collapsed": false,
    "ExecuteTime": {
     "end_time": "2023-10-05T17:58:53.507368200Z",
     "start_time": "2023-10-05T17:58:53.490907900Z"
    }
   },
   "id": "d9b56d4c525f5a2d"
  },
  {
   "cell_type": "code",
   "execution_count": 27,
   "outputs": [],
   "source": [
    "select = SelectPercentile(percentile=50)"
   ],
   "metadata": {
    "collapsed": false,
    "ExecuteTime": {
     "end_time": "2023-10-05T17:59:43.612126700Z",
     "start_time": "2023-10-05T17:59:43.597929700Z"
    }
   },
   "id": "d6de77c5f94f729e"
  },
  {
   "cell_type": "code",
   "execution_count": 28,
   "outputs": [
    {
     "name": "stdout",
     "output_type": "stream",
     "text": [
      "['feat_1', 'feat_0', 'feat_3', 'feat_2']\n"
     ]
    }
   ],
   "source": [
    "select.fit(dataset)\n",
    "\n",
    "dataset = select.transform(dataset)\n",
    "\n",
    "print(dataset.features)\n"
   ],
   "metadata": {
    "collapsed": false,
    "ExecuteTime": {
     "end_time": "2023-10-05T17:59:45.736429200Z",
     "start_time": "2023-10-05T17:59:45.713634200Z"
    }
   },
   "id": "8979ef4dc777a079"
  },
  {
   "cell_type": "code",
   "execution_count": 29,
   "outputs": [
    {
     "name": "stdout",
     "output_type": "stream",
     "text": [
      "['feat_1', 'feat_0', 'feat_3', 'feat_2']\n"
     ]
    }
   ],
   "source": [
    "select = SelectPercentile(percentile=25)\n",
    "\n",
    "select.fit(dataset)\n",
    "\n",
    "dataset = select.transform(dataset)\n",
    "\n",
    "print(dataset.features)"
   ],
   "metadata": {
    "collapsed": false,
    "ExecuteTime": {
     "end_time": "2023-10-05T17:59:48.061469800Z",
     "start_time": "2023-10-05T17:59:48.053280200Z"
    }
   },
   "id": "f515b53007269c1b"
  }
 ],
 "metadata": {
  "kernelspec": {
   "display_name": "Python 3",
   "language": "python",
   "name": "python3"
  },
  "language_info": {
   "codemirror_mode": {
    "name": "ipython",
    "version": 2
   },
   "file_extension": ".py",
   "mimetype": "text/x-python",
   "name": "python",
   "nbconvert_exporter": "python",
   "pygments_lexer": "ipython2",
   "version": "2.7.6"
  }
 },
 "nbformat": 4,
 "nbformat_minor": 5
}
