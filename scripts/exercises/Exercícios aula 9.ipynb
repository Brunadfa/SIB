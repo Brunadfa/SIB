{
 "cells": [
  {
   "cell_type": "markdown",
   "source": [
    "__Build, train and evaluate a neural network__"
   ],
   "metadata": {
    "collapsed": false
   },
   "id": "66c24a9e3b8e523d"
  },
  {
   "cell_type": "code",
   "execution_count": 75,
   "outputs": [],
   "source": [
    "import numpy as np\n",
    "from si.metrics.accuracy import accuracy\n",
    "from si.Data.dataset import Dataset\n",
    "from si.IO.CSV import read_csv\n",
    "from si.neural_networks.layers import DenseLayer\n",
    "from si.neural_networks.activation import ReLUActivation\n",
    "from si.neural_networks.activation import SigmoidActivation\n",
    "from si.neural_networks.losses import BinaryCrossEntropy\n",
    "from si.model_selection.split import stratified_train_test_split\n",
    "from si.neural_networks.optimizers import SGD\n",
    "from si.neural_networks.neural_network import NeuralNetwork"
   ],
   "metadata": {
    "collapsed": false,
    "ExecuteTime": {
     "end_time": "2023-12-12T21:54:39.310289200Z",
     "start_time": "2023-12-12T21:54:39.199762900Z"
    }
   },
   "id": "1f17dd0bee313332"
  },
  {
   "cell_type": "code",
   "execution_count": 76,
   "outputs": [
    {
     "name": "stdout",
     "output_type": "stream",
     "text": [
      "(100, 32)\n"
     ]
    }
   ],
   "source": [
    "# Create a random train and test set using numpy\n",
    "np.random.seed(42)\n",
    "X = np.random.rand(100, 32)\n",
    "y = np.random.randint(2, size=(100, 1))\n",
    "dataset=Dataset(X=X,y=y)\n",
    "print(dataset.shape())"
   ],
   "metadata": {
    "collapsed": false,
    "ExecuteTime": {
     "end_time": "2023-12-12T21:54:41.855770900Z",
     "start_time": "2023-12-12T21:54:41.398355600Z"
    }
   },
   "id": "9aeddd53a1621fb3"
  },
  {
   "cell_type": "code",
   "execution_count": 77,
   "outputs": [],
   "source": [
    "train,test = stratified_train_test_split(dataset, test_size=0.3, random_state=42)"
   ],
   "metadata": {
    "collapsed": false,
    "ExecuteTime": {
     "end_time": "2023-12-12T21:54:44.180996300Z",
     "start_time": "2023-12-12T21:54:44.124996Z"
    }
   },
   "id": "ddf0dafb2b3785b9"
  },
  {
   "cell_type": "code",
   "execution_count": 113,
   "outputs": [
    {
     "data": {
      "text/plain": "<si.neural_networks.neural_network.NeuralNetwork at 0x1cae054dc10>"
     },
     "execution_count": 113,
     "metadata": {},
     "output_type": "execute_result"
    }
   ],
   "source": [
    "# creating network\n",
    "model_train_dataset =NeuralNetwork(epochs=100, batch_size=16, optimizer=SGD, learning_rate=0.2, verbose=True, loss=BinaryCrossEntropy, metric=accuracy) # nao esta a funcionar com 0.01 talvez esteja relacionado com ajustes de pesos, valores mais baixos estão a causar um treinamente lento\n",
    "n_features = X.shape[1]\n",
    "model_train_dataset.add(DenseLayer(32, (n_features,)))\n",
    "model_train_dataset.add(ReLUActivation())\n",
    "model_train_dataset.add(DenseLayer(16))\n",
    "model_train_dataset.add(ReLUActivation())\n",
    "model_train_dataset.add(DenseLayer(1))\n",
    "model_train_dataset.add(SigmoidActivation())"
   ],
   "metadata": {
    "collapsed": false,
    "ExecuteTime": {
     "end_time": "2023-12-12T22:18:06.913016800Z",
     "start_time": "2023-12-12T22:18:06.851812500Z"
    }
   },
   "id": "57e00b74d4ac8f4b"
  },
  {
   "cell_type": "code",
   "execution_count": 112,
   "outputs": [
    {
     "name": "stdout",
     "output_type": "stream",
     "text": [
      "Epoch 1/100 - loss: 547.9732 - accuracy: 0.0781\n",
      "Epoch 2/100 - loss: 1174.3456 - accuracy: 0.4688\n",
      "Epoch 3/100 - loss: 1208.8852 - accuracy: 0.4531\n",
      "Epoch 4/100 - loss: 1208.8852 - accuracy: 0.4531\n",
      "Epoch 5/100 - loss: 1208.8852 - accuracy: 0.4531\n",
      "Epoch 6/100 - loss: 1208.8852 - accuracy: 0.4531\n",
      "Epoch 7/100 - loss: 1208.8852 - accuracy: 0.4531\n",
      "Epoch 8/100 - loss: 1208.8852 - accuracy: 0.4531\n",
      "Epoch 9/100 - loss: 1208.8852 - accuracy: 0.4531\n",
      "Epoch 10/100 - loss: 1174.3456 - accuracy: 0.4688\n",
      "Epoch 11/100 - loss: 1139.8060 - accuracy: 0.4844\n",
      "Epoch 12/100 - loss: 1174.3456 - accuracy: 0.4688\n",
      "Epoch 13/100 - loss: 1174.3456 - accuracy: 0.4688\n",
      "Epoch 14/100 - loss: 1208.8852 - accuracy: 0.4531\n",
      "Epoch 15/100 - loss: 1208.8852 - accuracy: 0.4531\n",
      "Epoch 16/100 - loss: 1174.3456 - accuracy: 0.4688\n",
      "Epoch 17/100 - loss: 1243.4247 - accuracy: 0.4375\n",
      "Epoch 18/100 - loss: 1139.8060 - accuracy: 0.4844\n",
      "Epoch 19/100 - loss: 1208.8852 - accuracy: 0.4531\n",
      "Epoch 20/100 - loss: 1208.8852 - accuracy: 0.4531\n",
      "Epoch 21/100 - loss: 1174.3456 - accuracy: 0.4688\n",
      "Epoch 22/100 - loss: 1174.3456 - accuracy: 0.4688\n",
      "Epoch 23/100 - loss: 1139.8060 - accuracy: 0.4844\n",
      "Epoch 24/100 - loss: 1139.8060 - accuracy: 0.4844\n",
      "Epoch 25/100 - loss: 1105.2664 - accuracy: 0.5000\n",
      "Epoch 26/100 - loss: 1208.8852 - accuracy: 0.4531\n",
      "Epoch 27/100 - loss: 1139.8060 - accuracy: 0.4844\n",
      "Epoch 28/100 - loss: 1139.8060 - accuracy: 0.4844\n",
      "Epoch 29/100 - loss: 1208.8852 - accuracy: 0.4531\n",
      "Epoch 30/100 - loss: 1208.8852 - accuracy: 0.4531\n",
      "Epoch 31/100 - loss: 1105.2664 - accuracy: 0.5000\n",
      "Epoch 32/100 - loss: 1243.4247 - accuracy: 0.4375\n",
      "Epoch 33/100 - loss: 1139.8060 - accuracy: 0.4844\n",
      "Epoch 34/100 - loss: 1208.8852 - accuracy: 0.4531\n",
      "Epoch 35/100 - loss: 1208.8852 - accuracy: 0.4531\n",
      "Epoch 36/100 - loss: 1174.3456 - accuracy: 0.4688\n",
      "Epoch 37/100 - loss: 1243.4247 - accuracy: 0.4375\n",
      "Epoch 38/100 - loss: 1174.3456 - accuracy: 0.4688\n",
      "Epoch 39/100 - loss: 1208.8852 - accuracy: 0.4531\n",
      "Epoch 40/100 - loss: 1208.8852 - accuracy: 0.4531\n",
      "Epoch 41/100 - loss: 1243.4247 - accuracy: 0.4375\n",
      "Epoch 42/100 - loss: 1139.8060 - accuracy: 0.4844\n",
      "Epoch 43/100 - loss: 1139.8060 - accuracy: 0.4844\n",
      "Epoch 44/100 - loss: 1208.8852 - accuracy: 0.4531\n",
      "Epoch 45/100 - loss: 1139.8060 - accuracy: 0.4844\n",
      "Epoch 46/100 - loss: 1208.8852 - accuracy: 0.4531\n",
      "Epoch 47/100 - loss: 1139.8060 - accuracy: 0.4844\n",
      "Epoch 48/100 - loss: 1208.8852 - accuracy: 0.4531\n",
      "Epoch 49/100 - loss: 1174.3456 - accuracy: 0.4688\n",
      "Epoch 50/100 - loss: 1208.8852 - accuracy: 0.4531\n",
      "Epoch 51/100 - loss: 1139.8060 - accuracy: 0.4844\n",
      "Epoch 52/100 - loss: 1208.8852 - accuracy: 0.4531\n",
      "Epoch 53/100 - loss: 1243.4247 - accuracy: 0.4375\n",
      "Epoch 54/100 - loss: 1208.8852 - accuracy: 0.4531\n",
      "Epoch 55/100 - loss: 1277.9643 - accuracy: 0.4219\n",
      "Epoch 56/100 - loss: 1139.8060 - accuracy: 0.4844\n",
      "Epoch 57/100 - loss: 1174.3456 - accuracy: 0.4688\n",
      "Epoch 58/100 - loss: 1243.4247 - accuracy: 0.4375\n",
      "Epoch 59/100 - loss: 1174.3456 - accuracy: 0.4688\n",
      "Epoch 60/100 - loss: 1105.2664 - accuracy: 0.5000\n",
      "Epoch 61/100 - loss: 1174.3456 - accuracy: 0.4688\n",
      "Epoch 62/100 - loss: 1208.8852 - accuracy: 0.4531\n",
      "Epoch 63/100 - loss: 1208.8852 - accuracy: 0.4531\n",
      "Epoch 64/100 - loss: 1174.3456 - accuracy: 0.4688\n",
      "Epoch 65/100 - loss: 1208.8852 - accuracy: 0.4531\n",
      "Epoch 66/100 - loss: 1174.3456 - accuracy: 0.4688\n",
      "Epoch 67/100 - loss: 1070.7269 - accuracy: 0.5156\n",
      "Epoch 68/100 - loss: 1174.3456 - accuracy: 0.4688\n",
      "Epoch 69/100 - loss: 1174.3456 - accuracy: 0.4688\n",
      "Epoch 70/100 - loss: 1139.8060 - accuracy: 0.4844\n",
      "Epoch 71/100 - loss: 1139.8060 - accuracy: 0.4844\n",
      "Epoch 72/100 - loss: 1139.8060 - accuracy: 0.4844\n",
      "Epoch 73/100 - loss: 1139.8060 - accuracy: 0.4844\n",
      "Epoch 74/100 - loss: 1208.8852 - accuracy: 0.4531\n",
      "Epoch 75/100 - loss: 1174.3456 - accuracy: 0.4688\n",
      "Epoch 76/100 - loss: 1208.8852 - accuracy: 0.4531\n",
      "Epoch 77/100 - loss: 1105.2664 - accuracy: 0.5000\n",
      "Epoch 78/100 - loss: 1174.3456 - accuracy: 0.4688\n",
      "Epoch 79/100 - loss: 1208.8852 - accuracy: 0.4531\n",
      "Epoch 80/100 - loss: 1174.3456 - accuracy: 0.4688\n",
      "Epoch 81/100 - loss: 1208.8852 - accuracy: 0.4531\n",
      "Epoch 82/100 - loss: 1208.8852 - accuracy: 0.4531\n",
      "Epoch 83/100 - loss: 1208.8852 - accuracy: 0.4531\n",
      "Epoch 84/100 - loss: 1174.3456 - accuracy: 0.4688\n",
      "Epoch 85/100 - loss: 1208.8852 - accuracy: 0.4531\n",
      "Epoch 86/100 - loss: 1139.8060 - accuracy: 0.4844\n",
      "Epoch 87/100 - loss: 1174.3456 - accuracy: 0.4688\n",
      "Epoch 88/100 - loss: 1243.4247 - accuracy: 0.4375\n",
      "Epoch 89/100 - loss: 1208.8852 - accuracy: 0.4531\n",
      "Epoch 90/100 - loss: 1208.8852 - accuracy: 0.4531\n",
      "Epoch 91/100 - loss: 1208.8852 - accuracy: 0.4531\n",
      "Epoch 92/100 - loss: 1174.3456 - accuracy: 0.4688\n",
      "Epoch 93/100 - loss: 1174.3456 - accuracy: 0.4688\n",
      "Epoch 94/100 - loss: 1105.2664 - accuracy: 0.5000\n",
      "Epoch 95/100 - loss: 1070.7269 - accuracy: 0.5156\n",
      "Epoch 96/100 - loss: 1208.8852 - accuracy: 0.4531\n",
      "Epoch 97/100 - loss: 1208.8852 - accuracy: 0.4531\n",
      "Epoch 98/100 - loss: 1208.8852 - accuracy: 0.4531\n",
      "Epoch 99/100 - loss: 1208.8852 - accuracy: 0.4531\n",
      "Epoch 100/100 - loss: 1174.3456 - accuracy: 0.4688\n"
     ]
    },
    {
     "data": {
      "text/plain": "<si.neural_networks.neural_network.NeuralNetwork at 0x1cae0499a10>"
     },
     "execution_count": 112,
     "metadata": {},
     "output_type": "execute_result"
    }
   ],
   "source": [
    "# train model\n",
    "model_train_dataset.fit(train)"
   ],
   "metadata": {
    "collapsed": false,
    "ExecuteTime": {
     "end_time": "2023-12-12T22:08:11.940843800Z",
     "start_time": "2023-12-12T22:08:11.652593800Z"
    }
   },
   "id": "9161344bcf0dc067"
  },
  {
   "cell_type": "code",
   "execution_count": 106,
   "outputs": [
    {
     "name": "stdout",
     "output_type": "stream",
     "text": [
      "Deep Learning result: 0.552\n"
     ]
    }
   ],
   "source": [
    "# testing\n",
    "result=model_train_dataset.score(test)\n",
    "print(f\"Deep Learning result: {result:0.3}\")"
   ],
   "metadata": {
    "collapsed": false,
    "ExecuteTime": {
     "end_time": "2023-12-12T22:06:40.643817400Z",
     "start_time": "2023-12-12T22:06:40.594665400Z"
    }
   },
   "id": "ce465e363aff5cb5"
  },
  {
   "cell_type": "code",
   "execution_count": null,
   "outputs": [],
   "source": [],
   "metadata": {
    "collapsed": false
   },
   "id": "8e37c0130c11a82"
  }
 ],
 "metadata": {
  "kernelspec": {
   "display_name": "Python 3",
   "language": "python",
   "name": "python3"
  },
  "language_info": {
   "codemirror_mode": {
    "name": "ipython",
    "version": 2
   },
   "file_extension": ".py",
   "mimetype": "text/x-python",
   "name": "python",
   "nbconvert_exporter": "python",
   "pygments_lexer": "ipython2",
   "version": "2.7.6"
  }
 },
 "nbformat": 4,
 "nbformat_minor": 5
}
