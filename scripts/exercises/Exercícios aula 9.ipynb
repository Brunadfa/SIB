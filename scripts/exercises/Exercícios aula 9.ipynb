{
 "cells": [
  {
   "cell_type": "markdown",
   "source": [
    "__Build, train and evaluate a neural network__"
   ],
   "metadata": {
    "collapsed": false
   },
   "id": "66c24a9e3b8e523d"
  },
  {
   "cell_type": "code",
   "execution_count": 1,
   "outputs": [],
   "source": [
    "import numpy as np\n",
    "from si.metrics import accuracy\n",
    "from si.Data.dataset import Dataset\n",
    "from si.neural_networks.layers import DenseLayer\n",
    "from si.neural_networks.activation import ReLUActivation\n",
    "from si.neural_networks.activation import SigmoidActivation\n",
    "from si.neural_networks.losses import BinaryCrossEntropy\n",
    "from si.neural_networks.optimizers import SGD\n",
    "from si.neural_networks.neural_network import NeuralNetwork"
   ],
   "metadata": {
    "collapsed": false,
    "ExecuteTime": {
     "end_time": "2023-11-30T16:14:10.580577500Z",
     "start_time": "2023-11-30T16:14:09.368606400Z"
    }
   },
   "id": "1f17dd0bee313332"
  },
  {
   "cell_type": "code",
   "execution_count": 2,
   "outputs": [],
   "source": [
    "# Create a random train and test set using numpy\n",
    "np.random.seed(42)\n",
    "X_train = np.random.rand(100, 32)\n",
    "y_train = np.random.randint(2, size=(100, 1))\n",
    "\n",
    "X_test = np.random.rand(20, 32)\n",
    "y_test = np.random.randint(2, size=(20, 1))"
   ],
   "metadata": {
    "collapsed": false,
    "ExecuteTime": {
     "end_time": "2023-11-30T16:14:14.506351100Z",
     "start_time": "2023-11-30T16:14:14.481280400Z"
    }
   },
   "id": "9aeddd53a1621fb3"
  },
  {
   "cell_type": "code",
   "execution_count": 3,
   "outputs": [],
   "source": [
    "# Create a dataset\n",
    "train_dataset = Dataset(X_train, y_train)\n",
    "test_dataset = Dataset(X_test, y_test)"
   ],
   "metadata": {
    "collapsed": false,
    "ExecuteTime": {
     "end_time": "2023-11-30T16:14:17.241813400Z",
     "start_time": "2023-11-30T16:14:17.211048Z"
    }
   },
   "id": "ddf0dafb2b3785b9"
  },
  {
   "cell_type": "code",
   "execution_count": 6,
   "outputs": [],
   "source": [
    "# Build the neural network\n",
    "model = NeuralNetwork(epochs=100, batch_size=16, optimizer=SGD, learning_rate=0.01, loss=BinaryCrossEntropy, metric=accuracy)"
   ],
   "metadata": {
    "collapsed": false,
    "ExecuteTime": {
     "end_time": "2023-11-30T16:14:27.850532300Z",
     "start_time": "2023-11-30T16:14:27.829292600Z"
    }
   },
   "id": "57e00b74d4ac8f4b"
  },
  {
   "cell_type": "code",
   "execution_count": 7,
   "outputs": [],
   "source": [
    "n_features = X_train.shape[1]\n",
    "n_units_dense_layer1 = n_features // 2\n",
    "n_units_dense_layer2 = n_units_dense_layer1 // 2"
   ],
   "metadata": {
    "collapsed": false,
    "ExecuteTime": {
     "end_time": "2023-11-30T16:14:29.661834Z",
     "start_time": "2023-11-30T16:14:29.639771700Z"
    }
   },
   "id": "9161344bcf0dc067"
  },
  {
   "cell_type": "code",
   "execution_count": 8,
   "outputs": [
    {
     "data": {
      "text/plain": "<si.neural_networks.neural_network.NeuralNetwork at 0x226a4fab4d0>"
     },
     "execution_count": 8,
     "metadata": {},
     "output_type": "execute_result"
    }
   ],
   "source": [
    "model.add(DenseLayer(n_units_dense_layer1, input_shape=(n_features,)))\n",
    "model.add(ReLUActivation())\n",
    "model.add(DenseLayer(n_units_dense_layer2))\n",
    "model.add(ReLUActivation())\n",
    "model.add(DenseLayer(1))\n",
    "model.add(SigmoidActivation())"
   ],
   "metadata": {
    "collapsed": false,
    "ExecuteTime": {
     "end_time": "2023-11-30T16:14:30.807043200Z",
     "start_time": "2023-11-30T16:14:30.735090400Z"
    }
   },
   "id": "88b7d0a81682c62"
  },
  {
   "cell_type": "code",
   "execution_count": 9,
   "outputs": [
    {
     "ename": "TypeError",
     "evalue": "BinaryCrossEntropy.derivative() missing 1 required positional argument: 'y_pred'",
     "output_type": "error",
     "traceback": [
      "\u001B[1;31m---------------------------------------------------------------------------\u001B[0m",
      "\u001B[1;31mTypeError\u001B[0m                                 Traceback (most recent call last)",
      "Cell \u001B[1;32mIn[9], line 2\u001B[0m\n\u001B[0;32m      1\u001B[0m \u001B[38;5;66;03m# Train the neural network\u001B[39;00m\n\u001B[1;32m----> 2\u001B[0m model\u001B[38;5;241m.\u001B[39mfit(train_dataset)\n",
      "File \u001B[1;32m~\\PycharmProjects\\SIB\\src\\si\\neural_networks\\neural_network.py:161\u001B[0m, in \u001B[0;36mNeuralNetwork.fit\u001B[1;34m(self, dataset)\u001B[0m\n\u001B[0;32m    158\u001B[0m output \u001B[38;5;241m=\u001B[39m \u001B[38;5;28mself\u001B[39m\u001B[38;5;241m.\u001B[39m_forward_propagation(X_batch, training\u001B[38;5;241m=\u001B[39m\u001B[38;5;28;01mTrue\u001B[39;00m)\n\u001B[0;32m    159\u001B[0m \u001B[38;5;66;03m# Backward propagation\u001B[39;00m\n\u001B[0;32m    160\u001B[0m \u001B[38;5;66;03m#Isto assegura que tanto y_true (i.e., y_batch) como y_pred (o resultado da propagação progressiva) passam para o método da derivada da função durante a back propagation.\u001B[39;00m\n\u001B[1;32m--> 161\u001B[0m error \u001B[38;5;241m=\u001B[39m \u001B[38;5;28mself\u001B[39m\u001B[38;5;241m.\u001B[39mloss\u001B[38;5;241m.\u001B[39mderivative(y_batch, \u001B[38;5;28mself\u001B[39m\u001B[38;5;241m.\u001B[39m_forward_propagation(X_batch, training\u001B[38;5;241m=\u001B[39m\u001B[38;5;28;01mTrue\u001B[39;00m))\n\u001B[0;32m    162\u001B[0m \u001B[38;5;28mself\u001B[39m\u001B[38;5;241m.\u001B[39m_backward_propagation(error)\n\u001B[0;32m    164\u001B[0m output_x_\u001B[38;5;241m.\u001B[39mappend(output)\n",
      "\u001B[1;31mTypeError\u001B[0m: BinaryCrossEntropy.derivative() missing 1 required positional argument: 'y_pred'"
     ]
    }
   ],
   "source": [
    "# Train the neural network\n",
    "model.fit(train_dataset)\n"
   ],
   "metadata": {
    "collapsed": false,
    "ExecuteTime": {
     "end_time": "2023-11-30T16:14:32.478088100Z",
     "start_time": "2023-11-30T16:14:32.338883100Z"
    }
   },
   "id": "37991e921837ef33"
  },
  {
   "cell_type": "code",
   "execution_count": 10,
   "outputs": [
    {
     "ename": "TypeError",
     "evalue": "'module' object is not callable",
     "output_type": "error",
     "traceback": [
      "\u001B[1;31m---------------------------------------------------------------------------\u001B[0m",
      "\u001B[1;31mTypeError\u001B[0m                                 Traceback (most recent call last)",
      "Cell \u001B[1;32mIn[10], line 2\u001B[0m\n\u001B[0;32m      1\u001B[0m \u001B[38;5;66;03m# Evaluate the model on the test set\u001B[39;00m\n\u001B[1;32m----> 2\u001B[0m accuracy_score \u001B[38;5;241m=\u001B[39m model\u001B[38;5;241m.\u001B[39mscore(test_dataset)\n\u001B[0;32m      3\u001B[0m \u001B[38;5;28mprint\u001B[39m(\u001B[38;5;124mf\u001B[39m\u001B[38;5;124m\"\u001B[39m\u001B[38;5;124mAccuracy on the test set: \u001B[39m\u001B[38;5;132;01m{\u001B[39;00maccuracy_score\u001B[38;5;132;01m}\u001B[39;00m\u001B[38;5;124m\"\u001B[39m)\n",
      "File \u001B[1;32m~\\PycharmProjects\\SIB\\src\\si\\neural_networks\\neural_network.py:219\u001B[0m, in \u001B[0;36mNeuralNetwork.score\u001B[1;34m(self, dataset)\u001B[0m\n\u001B[0;32m    205\u001B[0m \u001B[38;5;250m\u001B[39m\u001B[38;5;124;03m\"\"\"\u001B[39;00m\n\u001B[0;32m    206\u001B[0m \u001B[38;5;124;03mCompute the score of the neural network on the given dataset.\u001B[39;00m\n\u001B[0;32m    207\u001B[0m \n\u001B[1;32m   (...)\u001B[0m\n\u001B[0;32m    216\u001B[0m \u001B[38;5;124;03m    The score of the neural network.\u001B[39;00m\n\u001B[0;32m    217\u001B[0m \u001B[38;5;124;03m\"\"\"\u001B[39;00m\n\u001B[0;32m    218\u001B[0m \u001B[38;5;28;01mif\u001B[39;00m \u001B[38;5;28mself\u001B[39m\u001B[38;5;241m.\u001B[39mmetric \u001B[38;5;129;01mis\u001B[39;00m \u001B[38;5;129;01mnot\u001B[39;00m \u001B[38;5;28;01mNone\u001B[39;00m:\n\u001B[1;32m--> 219\u001B[0m     \u001B[38;5;28;01mreturn\u001B[39;00m \u001B[38;5;28mself\u001B[39m\u001B[38;5;241m.\u001B[39mmetric(dataset\u001B[38;5;241m.\u001B[39my, \u001B[38;5;28mself\u001B[39m\u001B[38;5;241m.\u001B[39mpredict(dataset))\n\u001B[0;32m    220\u001B[0m \u001B[38;5;28;01melse\u001B[39;00m:\n\u001B[0;32m    221\u001B[0m     \u001B[38;5;28;01mraise\u001B[39;00m \u001B[38;5;167;01mValueError\u001B[39;00m(\u001B[38;5;124m\"\u001B[39m\u001B[38;5;124mNo metric specified for the neural network.\u001B[39m\u001B[38;5;124m\"\u001B[39m)\n",
      "\u001B[1;31mTypeError\u001B[0m: 'module' object is not callable"
     ]
    }
   ],
   "source": [
    "# Evaluate the model on the test set\n",
    "accuracy_score = model.score(test_dataset)\n",
    "print(f\"Accuracy on the test set: {accuracy_score}\")"
   ],
   "metadata": {
    "collapsed": false,
    "ExecuteTime": {
     "end_time": "2023-11-30T16:14:35.307294600Z",
     "start_time": "2023-11-30T16:14:35.221719100Z"
    }
   },
   "id": "4297020a0c81b40f"
  },
  {
   "cell_type": "code",
   "execution_count": null,
   "outputs": [],
   "source": [],
   "metadata": {
    "collapsed": false
   },
   "id": "fde3b38319c8a54d"
  }
 ],
 "metadata": {
  "kernelspec": {
   "display_name": "Python 3",
   "language": "python",
   "name": "python3"
  },
  "language_info": {
   "codemirror_mode": {
    "name": "ipython",
    "version": 2
   },
   "file_extension": ".py",
   "mimetype": "text/x-python",
   "name": "python",
   "nbconvert_exporter": "python",
   "pygments_lexer": "ipython2",
   "version": "2.7.6"
  }
 },
 "nbformat": 4,
 "nbformat_minor": 5
}
