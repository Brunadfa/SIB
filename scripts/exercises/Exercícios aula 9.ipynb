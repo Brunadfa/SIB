{
 "cells": [
  {
   "cell_type": "markdown",
   "source": [
    "__Build, train and evaluate a neural network__"
   ],
   "metadata": {
    "collapsed": false
   },
   "id": "66c24a9e3b8e523d"
  },
  {
   "cell_type": "code",
   "execution_count": 41,
   "outputs": [],
   "source": [
    "import numpy as np\n",
    "from si.metrics import accuracy\n",
    "from si.Data.dataset import Dataset\n",
    "from si.IO.CSV import read_csv\n",
    "from si.neural_networks.layers import DenseLayer\n",
    "from si.neural_networks.activation import ReLUActivation\n",
    "from si.neural_networks.activation import SigmoidActivation\n",
    "from si.neural_networks.losses import BinaryCrossEntropy\n",
    "from si.model_selection.split import stratified_train_test_split\n",
    "from si.neural_networks.optimizers import SGD\n",
    "from si.neural_networks.neural_network import NeuralNetwork"
   ],
   "metadata": {
    "collapsed": false,
    "ExecuteTime": {
     "end_time": "2023-12-11T10:17:08.405816Z",
     "start_time": "2023-12-11T10:17:08.399809300Z"
    }
   },
   "id": "1f17dd0bee313332"
  },
  {
   "cell_type": "code",
   "execution_count": 42,
   "outputs": [
    {
     "name": "stdout",
     "output_type": "stream",
     "text": [
      "(100, 32)\n"
     ]
    }
   ],
   "source": [
    "# Create a random train and test set using numpy\n",
    "np.random.seed(42)\n",
    "X = np.random.rand(100, 32)\n",
    "y = np.random.randint(2, size=(100, 1))\n",
    "dataset=Dataset(X=X,y=y)\n",
    "print(dataset.shape())"
   ],
   "metadata": {
    "collapsed": false,
    "ExecuteTime": {
     "end_time": "2023-12-11T10:17:10.462018200Z",
     "start_time": "2023-12-11T10:17:10.454467800Z"
    }
   },
   "id": "9aeddd53a1621fb3"
  },
  {
   "cell_type": "code",
   "execution_count": 43,
   "outputs": [],
   "source": [
    "train,test = stratified_train_test_split(dataset, test_size=0.3, random_state=42)"
   ],
   "metadata": {
    "collapsed": false,
    "ExecuteTime": {
     "end_time": "2023-12-11T10:17:12.723315100Z",
     "start_time": "2023-12-11T10:17:12.715524100Z"
    }
   },
   "id": "ddf0dafb2b3785b9"
  },
  {
   "cell_type": "code",
   "execution_count": 44,
   "outputs": [
    {
     "data": {
      "text/plain": "<si.neural_networks.neural_network.NeuralNetwork at 0x1cae0283950>"
     },
     "execution_count": 44,
     "metadata": {},
     "output_type": "execute_result"
    }
   ],
   "source": [
    "# creating network\n",
    "model_train_dataset =NeuralNetwork(epochs=100, batch_size=16, optimizer=SGD, learning_rate=0.01, verbose=True, loss=BinaryCrossEntropy, metric=accuracy)\n",
    "n_features = X.shape[1]\n",
    "model_train_dataset.add(DenseLayer(32, (n_features,)))\n",
    "model_train_dataset.add(ReLUActivation())\n",
    "model_train_dataset.add(DenseLayer(16))\n",
    "model_train_dataset.add(ReLUActivation())\n",
    "model_train_dataset.add(DenseLayer(1))\n",
    "model_train_dataset.add(SigmoidActivation())"
   ],
   "metadata": {
    "collapsed": false,
    "ExecuteTime": {
     "end_time": "2023-12-11T10:17:13.868531700Z",
     "start_time": "2023-12-11T10:17:13.862151400Z"
    }
   },
   "id": "57e00b74d4ac8f4b"
  },
  {
   "cell_type": "code",
   "execution_count": 45,
   "outputs": [
    {
     "ename": "TypeError",
     "evalue": "'module' object is not callable",
     "output_type": "error",
     "traceback": [
      "\u001B[1;31m---------------------------------------------------------------------------\u001B[0m",
      "\u001B[1;31mTypeError\u001B[0m                                 Traceback (most recent call last)",
      "Cell \u001B[1;32mIn[45], line 2\u001B[0m\n\u001B[0;32m      1\u001B[0m \u001B[38;5;66;03m# train model\u001B[39;00m\n\u001B[1;32m----> 2\u001B[0m model_train_dataset\u001B[38;5;241m.\u001B[39mfit(train)\n",
      "File \u001B[1;32m~\\PycharmProjects\\SIB\\src\\si\\neural_networks\\neural_network.py:185\u001B[0m, in \u001B[0;36mNeuralNetwork.fit\u001B[1;34m(self, dataset)\u001B[0m\n\u001B[0;32m    182\u001B[0m loss \u001B[38;5;241m=\u001B[39m \u001B[38;5;28mself\u001B[39m\u001B[38;5;241m.\u001B[39mloss\u001B[38;5;241m.\u001B[39mloss(y_all, output_x_all)  \u001B[38;5;66;03m#calculates total loss\u001B[39;00m\n\u001B[0;32m    184\u001B[0m \u001B[38;5;28;01mif\u001B[39;00m \u001B[38;5;28mself\u001B[39m\u001B[38;5;241m.\u001B[39mmetric \u001B[38;5;129;01mis\u001B[39;00m \u001B[38;5;129;01mnot\u001B[39;00m \u001B[38;5;28;01mNone\u001B[39;00m:\n\u001B[1;32m--> 185\u001B[0m     metric \u001B[38;5;241m=\u001B[39m \u001B[38;5;28mself\u001B[39m\u001B[38;5;241m.\u001B[39mmetric(y_all, output_x_all)\n\u001B[0;32m    186\u001B[0m     metric_s \u001B[38;5;241m=\u001B[39m \u001B[38;5;124mf\u001B[39m\u001B[38;5;124m\"\u001B[39m\u001B[38;5;132;01m{\u001B[39;00m\u001B[38;5;28mself\u001B[39m\u001B[38;5;241m.\u001B[39mmetric\u001B[38;5;241m.\u001B[39m\u001B[38;5;18m__name__\u001B[39m\u001B[38;5;132;01m}\u001B[39;00m\u001B[38;5;124m: \u001B[39m\u001B[38;5;132;01m{\u001B[39;00mmetric\u001B[38;5;132;01m:\u001B[39;00m\u001B[38;5;124m.4f\u001B[39m\u001B[38;5;132;01m}\u001B[39;00m\u001B[38;5;124m\"\u001B[39m\n\u001B[0;32m    187\u001B[0m \u001B[38;5;28;01melse\u001B[39;00m:\n",
      "\u001B[1;31mTypeError\u001B[0m: 'module' object is not callable"
     ]
    }
   ],
   "source": [
    "# train model\n",
    "model_train_dataset.fit(train)"
   ],
   "metadata": {
    "collapsed": false,
    "ExecuteTime": {
     "end_time": "2023-12-11T10:17:16.474265200Z",
     "start_time": "2023-12-11T10:17:16.427611400Z"
    }
   },
   "id": "9161344bcf0dc067"
  },
  {
   "cell_type": "code",
   "execution_count": 26,
   "outputs": [
    {
     "ename": "TypeError",
     "evalue": "'module' object is not callable",
     "output_type": "error",
     "traceback": [
      "\u001B[1;31m---------------------------------------------------------------------------\u001B[0m",
      "\u001B[1;31mTypeError\u001B[0m                                 Traceback (most recent call last)",
      "Cell \u001B[1;32mIn[26], line 2\u001B[0m\n\u001B[0;32m      1\u001B[0m \u001B[38;5;66;03m# testing\u001B[39;00m\n\u001B[1;32m----> 2\u001B[0m result_dl\u001B[38;5;241m=\u001B[39mmodel_train_dataset\u001B[38;5;241m.\u001B[39mscore(test)\n\u001B[0;32m      3\u001B[0m \u001B[38;5;28mprint\u001B[39m(\u001B[38;5;124mf\u001B[39m\u001B[38;5;124m\"\u001B[39m\u001B[38;5;124mDeep Learning result: \u001B[39m\u001B[38;5;132;01m{\u001B[39;00mresult_dl\u001B[38;5;132;01m:\u001B[39;00m\u001B[38;5;124m0.3\u001B[39m\u001B[38;5;132;01m}\u001B[39;00m\u001B[38;5;124m\"\u001B[39m)\n",
      "File \u001B[1;32m~\\PycharmProjects\\SIB\\src\\si\\neural_networks\\neural_network.py:230\u001B[0m, in \u001B[0;36mNeuralNetwork.score\u001B[1;34m(self, dataset)\u001B[0m\n\u001B[0;32m    216\u001B[0m \u001B[38;5;250m\u001B[39m\u001B[38;5;124;03m\"\"\"\u001B[39;00m\n\u001B[0;32m    217\u001B[0m \u001B[38;5;124;03mCompute the score of the neural network on the given dataset.\u001B[39;00m\n\u001B[0;32m    218\u001B[0m \n\u001B[1;32m   (...)\u001B[0m\n\u001B[0;32m    227\u001B[0m \u001B[38;5;124;03m    The score of the neural network.\u001B[39;00m\n\u001B[0;32m    228\u001B[0m \u001B[38;5;124;03m\"\"\"\u001B[39;00m\n\u001B[0;32m    229\u001B[0m \u001B[38;5;28;01mif\u001B[39;00m \u001B[38;5;28mself\u001B[39m\u001B[38;5;241m.\u001B[39mmetric \u001B[38;5;129;01mis\u001B[39;00m \u001B[38;5;129;01mnot\u001B[39;00m \u001B[38;5;28;01mNone\u001B[39;00m:\n\u001B[1;32m--> 230\u001B[0m     \u001B[38;5;28;01mreturn\u001B[39;00m \u001B[38;5;28mself\u001B[39m\u001B[38;5;241m.\u001B[39mmetric(dataset\u001B[38;5;241m.\u001B[39my, \u001B[38;5;28mself\u001B[39m\u001B[38;5;241m.\u001B[39mpredict(dataset))\n\u001B[0;32m    231\u001B[0m \u001B[38;5;28;01melse\u001B[39;00m:\n\u001B[0;32m    232\u001B[0m     \u001B[38;5;28;01mraise\u001B[39;00m \u001B[38;5;167;01mValueError\u001B[39;00m(\u001B[38;5;124m\"\u001B[39m\u001B[38;5;124mNo metric specified for the neural network.\u001B[39m\u001B[38;5;124m\"\u001B[39m)\n",
      "\u001B[1;31mTypeError\u001B[0m: 'module' object is not callable"
     ]
    }
   ],
   "source": [
    "# testing\n",
    "result_dl=model_train_dataset.score(test)\n",
    "print(f\"Deep Learning result: {result_dl:0.3}\")"
   ],
   "metadata": {
    "collapsed": false,
    "ExecuteTime": {
     "end_time": "2023-12-10T19:12:39.121495500Z",
     "start_time": "2023-12-10T19:12:39.049177100Z"
    }
   },
   "id": "ce465e363aff5cb5"
  },
  {
   "cell_type": "code",
   "execution_count": null,
   "outputs": [],
   "source": [],
   "metadata": {
    "collapsed": false
   },
   "id": "9652b240044ceac7"
  }
 ],
 "metadata": {
  "kernelspec": {
   "display_name": "Python 3",
   "language": "python",
   "name": "python3"
  },
  "language_info": {
   "codemirror_mode": {
    "name": "ipython",
    "version": 2
   },
   "file_extension": ".py",
   "mimetype": "text/x-python",
   "name": "python",
   "nbconvert_exporter": "python",
   "pygments_lexer": "ipython2",
   "version": "2.7.6"
  }
 },
 "nbformat": 4,
 "nbformat_minor": 5
}
