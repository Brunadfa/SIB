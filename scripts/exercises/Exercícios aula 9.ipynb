{
 "cells": [
  {
   "cell_type": "markdown",
   "source": [
    "__Build, train and evaluate a neural network__"
   ],
   "metadata": {
    "collapsed": false
   },
   "id": "66c24a9e3b8e523d"
  },
  {
   "cell_type": "code",
   "execution_count": 63,
   "outputs": [],
   "source": [
    "import numpy as np\n",
    "from si.metrics.accuracy import accuracy\n",
    "from si.Data.dataset import Dataset\n",
    "from si.IO.CSV import read_csv\n",
    "from si.neural_networks.layers import DenseLayer\n",
    "from si.neural_networks.activation import ReLUActivation\n",
    "from si.neural_networks.activation import SigmoidActivation\n",
    "from si.neural_networks.losses import BinaryCrossEntropy\n",
    "from si.model_selection.split import stratified_train_test_split\n",
    "from si.neural_networks.optimizers import SGD\n",
    "from si.neural_networks.neural_network import NeuralNetwork"
   ],
   "metadata": {
    "collapsed": false,
    "ExecuteTime": {
     "end_time": "2023-12-12T18:39:10.711025400Z",
     "start_time": "2023-12-12T18:39:10.664332300Z"
    }
   },
   "id": "1f17dd0bee313332"
  },
  {
   "cell_type": "code",
   "execution_count": 64,
   "outputs": [
    {
     "name": "stdout",
     "output_type": "stream",
     "text": [
      "(100, 32)\n"
     ]
    }
   ],
   "source": [
    "# Create a random train and test set using numpy\n",
    "np.random.seed(42)\n",
    "X = np.random.rand(100, 32)\n",
    "y = np.random.randint(2, size=(100, 1))\n",
    "dataset=Dataset(X=X,y=y)\n",
    "print(dataset.shape())"
   ],
   "metadata": {
    "collapsed": false,
    "ExecuteTime": {
     "end_time": "2023-12-12T18:39:12.319396700Z",
     "start_time": "2023-12-12T18:39:12.253402200Z"
    }
   },
   "id": "9aeddd53a1621fb3"
  },
  {
   "cell_type": "code",
   "execution_count": 65,
   "outputs": [],
   "source": [
    "train,test = stratified_train_test_split(dataset, test_size=0.3, random_state=42)"
   ],
   "metadata": {
    "collapsed": false,
    "ExecuteTime": {
     "end_time": "2023-12-12T18:39:13.556126200Z",
     "start_time": "2023-12-12T18:39:13.531683500Z"
    }
   },
   "id": "ddf0dafb2b3785b9"
  },
  {
   "cell_type": "code",
   "execution_count": 66,
   "outputs": [
    {
     "data": {
      "text/plain": "<si.neural_networks.neural_network.NeuralNetwork at 0x1cae04ee510>"
     },
     "execution_count": 66,
     "metadata": {},
     "output_type": "execute_result"
    }
   ],
   "source": [
    "# creating network\n",
    "model_train_dataset =NeuralNetwork(epochs=100, batch_size=16, optimizer=SGD, learning_rate=0.01, verbose=True, loss=BinaryCrossEntropy, metric=accuracy)\n",
    "n_features = X.shape[1]\n",
    "model_train_dataset.add(DenseLayer(32, (n_features,)))\n",
    "model_train_dataset.add(ReLUActivation())\n",
    "model_train_dataset.add(DenseLayer(16))\n",
    "model_train_dataset.add(ReLUActivation())\n",
    "model_train_dataset.add(DenseLayer(1))\n",
    "model_train_dataset.add(SigmoidActivation())"
   ],
   "metadata": {
    "collapsed": false,
    "ExecuteTime": {
     "end_time": "2023-12-12T18:39:14.898188600Z",
     "start_time": "2023-12-12T18:39:14.839065700Z"
    }
   },
   "id": "57e00b74d4ac8f4b"
  },
  {
   "cell_type": "code",
   "execution_count": 67,
   "outputs": [
    {
     "name": "stdout",
     "output_type": "stream",
     "text": [
      "Epoch 1/100 - loss: 46.2693 - accuracy: 0.0000\n",
      "Epoch 2/100 - loss: 45.5624 - accuracy: 0.0000\n",
      "Epoch 3/100 - loss: 43.7202 - accuracy: 0.0000\n",
      "Epoch 4/100 - loss: 42.7120 - accuracy: 0.0000\n",
      "Epoch 5/100 - loss: 41.6872 - accuracy: 0.0000\n",
      "Epoch 6/100 - loss: 41.1410 - accuracy: 0.0000\n",
      "Epoch 7/100 - loss: 40.0996 - accuracy: 0.0000\n",
      "Epoch 8/100 - loss: 40.7393 - accuracy: 0.0000\n",
      "Epoch 9/100 - loss: 39.9642 - accuracy: 0.0000\n",
      "Epoch 10/100 - loss: 38.7111 - accuracy: 0.0000\n",
      "Epoch 11/100 - loss: 37.9382 - accuracy: 0.0000\n",
      "Epoch 12/100 - loss: 37.5953 - accuracy: 0.0000\n",
      "Epoch 13/100 - loss: 37.2585 - accuracy: 0.0000\n",
      "Epoch 14/100 - loss: 35.3565 - accuracy: 0.0000\n",
      "Epoch 15/100 - loss: 39.3640 - accuracy: 0.0000\n",
      "Epoch 16/100 - loss: 37.5541 - accuracy: 0.0000\n",
      "Epoch 17/100 - loss: 34.6014 - accuracy: 0.0000\n",
      "Epoch 18/100 - loss: 33.7742 - accuracy: 0.0000\n",
      "Epoch 19/100 - loss: 32.5585 - accuracy: 0.0000\n",
      "Epoch 20/100 - loss: 32.4109 - accuracy: 0.0000\n",
      "Epoch 21/100 - loss: 31.8931 - accuracy: 0.0000\n",
      "Epoch 22/100 - loss: 31.4569 - accuracy: 0.0000\n",
      "Epoch 23/100 - loss: 30.8823 - accuracy: 0.0000\n",
      "Epoch 24/100 - loss: 30.9003 - accuracy: 0.0000\n",
      "Epoch 25/100 - loss: 29.3608 - accuracy: 0.0000\n",
      "Epoch 26/100 - loss: 28.6312 - accuracy: 0.0000\n",
      "Epoch 27/100 - loss: 33.2685 - accuracy: 0.0000\n",
      "Epoch 28/100 - loss: 26.3123 - accuracy: 0.0000\n",
      "Epoch 29/100 - loss: 24.8142 - accuracy: 0.0000\n",
      "Epoch 30/100 - loss: 27.7219 - accuracy: 0.0000\n",
      "Epoch 31/100 - loss: 26.3876 - accuracy: 0.0000\n",
      "Epoch 32/100 - loss: 29.4471 - accuracy: 0.0000\n",
      "Epoch 33/100 - loss: 33.7085 - accuracy: 0.0000\n",
      "Epoch 34/100 - loss: 22.9344 - accuracy: 0.0000\n",
      "Epoch 35/100 - loss: 21.1751 - accuracy: 0.0000\n",
      "Epoch 36/100 - loss: 22.2898 - accuracy: 0.0000\n",
      "Epoch 37/100 - loss: 23.4847 - accuracy: 0.0000\n",
      "Epoch 38/100 - loss: 20.1657 - accuracy: 0.0000\n",
      "Epoch 39/100 - loss: 24.2202 - accuracy: 0.0000\n",
      "Epoch 40/100 - loss: 29.2359 - accuracy: 0.0000\n",
      "Epoch 41/100 - loss: 19.7251 - accuracy: 0.0000\n",
      "Epoch 42/100 - loss: 20.0655 - accuracy: 0.0000\n",
      "Epoch 43/100 - loss: 21.5609 - accuracy: 0.0000\n",
      "Epoch 44/100 - loss: 16.3043 - accuracy: 0.0000\n",
      "Epoch 45/100 - loss: 15.6535 - accuracy: 0.0000\n",
      "Epoch 46/100 - loss: 21.1133 - accuracy: 0.0000\n",
      "Epoch 47/100 - loss: 20.1644 - accuracy: 0.0000\n",
      "Epoch 48/100 - loss: 14.1111 - accuracy: 0.0000\n",
      "Epoch 49/100 - loss: 13.3906 - accuracy: 0.0000\n",
      "Epoch 50/100 - loss: 12.7038 - accuracy: 0.0000\n",
      "Epoch 51/100 - loss: 12.6770 - accuracy: 0.0000\n",
      "Epoch 52/100 - loss: 11.0143 - accuracy: 0.0000\n",
      "Epoch 53/100 - loss: 12.3815 - accuracy: 0.0000\n",
      "Epoch 54/100 - loss: 13.2233 - accuracy: 0.0000\n",
      "Epoch 55/100 - loss: 9.6689 - accuracy: 0.0000\n",
      "Epoch 56/100 - loss: 15.0475 - accuracy: 0.0000\n",
      "Epoch 57/100 - loss: 9.3286 - accuracy: 0.0000\n",
      "Epoch 58/100 - loss: 11.4500 - accuracy: 0.0000\n",
      "Epoch 59/100 - loss: 10.5724 - accuracy: 0.0000\n",
      "Epoch 60/100 - loss: 11.7777 - accuracy: 0.0000\n",
      "Epoch 61/100 - loss: 16.0541 - accuracy: 0.0000\n",
      "Epoch 62/100 - loss: 7.4099 - accuracy: 0.0000\n",
      "Epoch 63/100 - loss: 6.6685 - accuracy: 0.0000\n",
      "Epoch 64/100 - loss: 9.7452 - accuracy: 0.0000\n",
      "Epoch 65/100 - loss: 28.9352 - accuracy: 0.0000\n",
      "Epoch 66/100 - loss: 9.7503 - accuracy: 0.0000\n",
      "Epoch 67/100 - loss: 7.8692 - accuracy: 0.0000\n",
      "Epoch 68/100 - loss: 5.0147 - accuracy: 0.0000\n",
      "Epoch 69/100 - loss: 6.9934 - accuracy: 0.0000\n",
      "Epoch 70/100 - loss: 5.6032 - accuracy: 0.0000\n",
      "Epoch 71/100 - loss: 4.7450 - accuracy: 0.0000\n",
      "Epoch 72/100 - loss: 4.7904 - accuracy: 0.0000\n",
      "Epoch 73/100 - loss: 4.2060 - accuracy: 0.0000\n",
      "Epoch 74/100 - loss: 3.6512 - accuracy: 0.0000\n",
      "Epoch 75/100 - loss: 3.6739 - accuracy: 0.0000\n",
      "Epoch 76/100 - loss: 3.6642 - accuracy: 0.0000\n",
      "Epoch 77/100 - loss: 3.3132 - accuracy: 0.0000\n",
      "Epoch 78/100 - loss: 3.2499 - accuracy: 0.0000\n",
      "Epoch 79/100 - loss: 2.8796 - accuracy: 0.0000\n",
      "Epoch 80/100 - loss: 2.9803 - accuracy: 0.0000\n",
      "Epoch 81/100 - loss: 2.4721 - accuracy: 0.0000\n",
      "Epoch 82/100 - loss: 2.5413 - accuracy: 0.0000\n",
      "Epoch 83/100 - loss: 2.1883 - accuracy: 0.0000\n",
      "Epoch 84/100 - loss: 2.7036 - accuracy: 0.0000\n",
      "Epoch 85/100 - loss: 2.5417 - accuracy: 0.0000\n",
      "Epoch 86/100 - loss: 1.9297 - accuracy: 0.0000\n",
      "Epoch 87/100 - loss: 2.3126 - accuracy: 0.0000\n",
      "Epoch 88/100 - loss: 2.2151 - accuracy: 0.0000\n",
      "Epoch 89/100 - loss: 2.2269 - accuracy: 0.0000\n",
      "Epoch 90/100 - loss: 2.0805 - accuracy: 0.0000\n",
      "Epoch 91/100 - loss: 1.7615 - accuracy: 0.0000\n",
      "Epoch 92/100 - loss: 1.8051 - accuracy: 0.0000\n",
      "Epoch 93/100 - loss: 1.6572 - accuracy: 0.0000\n",
      "Epoch 94/100 - loss: 1.6210 - accuracy: 0.0000\n",
      "Epoch 95/100 - loss: 1.4002 - accuracy: 0.0000\n",
      "Epoch 96/100 - loss: 1.5237 - accuracy: 0.0000\n",
      "Epoch 97/100 - loss: 1.4468 - accuracy: 0.0000\n",
      "Epoch 98/100 - loss: 1.4116 - accuracy: 0.0000\n",
      "Epoch 99/100 - loss: 1.3147 - accuracy: 0.0000\n",
      "Epoch 100/100 - loss: 1.4724 - accuracy: 0.0000\n"
     ]
    },
    {
     "data": {
      "text/plain": "<si.neural_networks.neural_network.NeuralNetwork at 0x1cae04ee510>"
     },
     "execution_count": 67,
     "metadata": {},
     "output_type": "execute_result"
    }
   ],
   "source": [
    "# train model\n",
    "model_train_dataset.fit(train)"
   ],
   "metadata": {
    "collapsed": false,
    "ExecuteTime": {
     "end_time": "2023-12-12T18:39:16.717541800Z",
     "start_time": "2023-12-12T18:39:16.502651100Z"
    }
   },
   "id": "9161344bcf0dc067"
  },
  {
   "cell_type": "code",
   "execution_count": 68,
   "outputs": [
    {
     "name": "stdout",
     "output_type": "stream",
     "text": [
      "Deep Learning result: 0.0\n"
     ]
    }
   ],
   "source": [
    "# testing\n",
    "result=model_train_dataset.score(test)\n",
    "print(f\"Deep Learning result: {result:0.3}\")"
   ],
   "metadata": {
    "collapsed": false,
    "ExecuteTime": {
     "end_time": "2023-12-12T18:39:18.391132500Z",
     "start_time": "2023-12-12T18:39:18.358868Z"
    }
   },
   "id": "ce465e363aff5cb5"
  },
  {
   "cell_type": "code",
   "execution_count": null,
   "outputs": [],
   "source": [],
   "metadata": {
    "collapsed": false
   },
   "id": "9652b240044ceac7"
  }
 ],
 "metadata": {
  "kernelspec": {
   "display_name": "Python 3",
   "language": "python",
   "name": "python3"
  },
  "language_info": {
   "codemirror_mode": {
    "name": "ipython",
    "version": 2
   },
   "file_extension": ".py",
   "mimetype": "text/x-python",
   "name": "python",
   "nbconvert_exporter": "python",
   "pygments_lexer": "ipython2",
   "version": "2.7.6"
  }
 },
 "nbformat": 4,
 "nbformat_minor": 5
}
