{
 "cells": [
  {
   "cell_type": "markdown",
   "source": [
    "__Test the PCA class in a jupyter notebook using the iris.csv dataset (classificação).__"
   ],
   "metadata": {
    "collapsed": false
   },
   "id": "6bf3048efb613186"
  },
  {
   "cell_type": "code",
   "execution_count": 1,
   "outputs": [],
   "source": [
    "import numpy as np\n",
    "import pandas as pd\n",
    "from src.si.Data.dataset import Dataset\n",
    "from src.si.decomposition.pca import PCA\n",
    "from src.si.IO.CSV import read_csv"
   ],
   "metadata": {
    "collapsed": false,
    "ExecuteTime": {
     "end_time": "2023-10-07T17:19:07.548412100Z",
     "start_time": "2023-10-07T17:19:06.942830800Z"
    }
   },
   "id": "2e523b7faef5e4d8"
  },
  {
   "cell_type": "code",
   "execution_count": 2,
   "outputs": [],
   "source": [
    "df = read_csv(r'C:\\Users\\bruna\\PycharmProjects\\SIB\\src\\feature_selection\\iris.csv', sep=\",\", label=True)\n"
   ],
   "metadata": {
    "collapsed": false,
    "ExecuteTime": {
     "end_time": "2023-10-07T17:19:10.027655400Z",
     "start_time": "2023-10-07T17:19:10.006138300Z"
    }
   },
   "id": "38671e4558c06792"
  },
  {
   "cell_type": "code",
   "execution_count": 6,
   "outputs": [
    {
     "ename": "AttributeError",
     "evalue": "'Dataset' object has no attribute 'dropna'",
     "output_type": "error",
     "traceback": [
      "\u001B[1;31m---------------------------------------------------------------------------\u001B[0m",
      "\u001B[1;31mAttributeError\u001B[0m                            Traceback (most recent call last)",
      "Cell \u001B[1;32mIn[6], line 1\u001B[0m\n\u001B[1;32m----> 1\u001B[0m X \u001B[38;5;241m=\u001B[39m df\u001B[38;5;241m.\u001B[39mdropna(columns\u001B[38;5;241m=\u001B[39m[\u001B[38;5;124m'\u001B[39m\u001B[38;5;124msetosa\u001B[39m\u001B[38;5;124m'\u001B[39m])\n\u001B[0;32m      2\u001B[0m y \u001B[38;5;241m=\u001B[39m df[\u001B[38;5;124m'\u001B[39m\u001B[38;5;124msetosa\u001B[39m\u001B[38;5;124m'\u001B[39m]\n\u001B[0;32m      3\u001B[0m dataset_ \u001B[38;5;241m=\u001B[39m Dataset(X\u001B[38;5;241m=\u001B[39mX\u001B[38;5;241m.\u001B[39mvalues, y\u001B[38;5;241m=\u001B[39my\u001B[38;5;241m.\u001B[39mvalues, features\u001B[38;5;241m=\u001B[39mX\u001B[38;5;241m.\u001B[39mcolumns\u001B[38;5;241m.\u001B[39mtolist(), label\u001B[38;5;241m=\u001B[39m\u001B[38;5;124m'\u001B[39m\u001B[38;5;124msetosa\u001B[39m\u001B[38;5;124m'\u001B[39m)\n",
      "\u001B[1;31mAttributeError\u001B[0m: 'Dataset' object has no attribute 'dropna'"
     ]
    }
   ],
   "source": [
    "X = df.dropna(columns=['setosa'])\n",
    "y = df['setosa']\n",
    "dataset_ = Dataset(X=X.values, y=y.values, features=X.columns.tolist(), label='setosa')\n",
    "\n",
    "dataset_pca = PCA(n_components=2)\n",
    "\n",
    "dataset_pca.fit(dataset_)\n",
    "\n",
    "transformed_data = dataset_pca.transform(dataset_)\n",
    "\n",
    "print(\"Dataframe original:\\n\", dataset_.to_dataframe())\n",
    "print(\"Pós PCA:\\n\", transformed_data)\n"
   ],
   "metadata": {
    "collapsed": false,
    "ExecuteTime": {
     "end_time": "2023-10-07T17:27:01.737929200Z",
     "start_time": "2023-10-07T17:27:01.722532600Z"
    }
   },
   "id": "c9c15cc09856a2de"
  }
 ],
 "metadata": {
  "kernelspec": {
   "display_name": "Python 3",
   "language": "python",
   "name": "python3"
  },
  "language_info": {
   "codemirror_mode": {
    "name": "ipython",
    "version": 2
   },
   "file_extension": ".py",
   "mimetype": "text/x-python",
   "name": "python",
   "nbconvert_exporter": "python",
   "pygments_lexer": "ipython2",
   "version": "2.7.6"
  }
 },
 "nbformat": 4,
 "nbformat_minor": 5
}
